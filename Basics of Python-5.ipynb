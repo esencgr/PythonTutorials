{
 "cells": [
  {
   "cell_type": "markdown",
   "metadata": {},
   "source": [
    "# Basics of Python - Part 5 - Linear Programming\n",
    "\n",
    "In this module, we will be using the Linear Programming package, pulp. Since this is a special package, first we have to install it to be able to use it. Please uncomment and run the first block of code to install pulp. Don't forget to comment it again after you've done this. \n",
    "\n",
    "As for the pulp documentation and more details, please refer to the documentation at https://pythonhosted.org/PuLP/\n"
   ]
  },
  {
   "cell_type": "code",
   "execution_count": 1,
   "metadata": {},
   "outputs": [],
   "source": [
    "#pip install pulp"
   ]
  },
  {
   "cell_type": "markdown",
   "metadata": {},
   "source": [
    "To be able to use any package in our code, we first have to import it to our notebook. "
   ]
  },
  {
   "cell_type": "code",
   "execution_count": 2,
   "metadata": {},
   "outputs": [],
   "source": [
    "from pulp import *  # this imports everything from the package."
   ]
  },
  {
   "cell_type": "markdown",
   "metadata": {},
   "source": [
    "We should define each variable by using LpVariable. Here the order is LpVariable(name,lower bound,upper bound,type) \n",
    "* name is the name of the variable;\n",
    "* lower bound, upper bound are the bounds for this variable;\n",
    "* if there is no upper bound, write None;\n",
    "* type would be LpContinuous or LpInteger(use this if you are looking for integer values)"
   ]
  },
  {
   "cell_type": "code",
   "execution_count": 3,
   "metadata": {},
   "outputs": [
    {
     "data": {
      "text/plain": [
       "pulp.pulp.LpVariable"
      ]
     },
     "execution_count": 3,
     "metadata": {},
     "output_type": "execute_result"
    }
   ],
   "source": [
    "#We first write down the problem. Since we want to maximize we use LpMaximize here. Another option would be LpMinimize.\n",
    "\n",
    "x_1=LpVariable('x_1',0,None,LpContinuous) #This is for x_1>=0. \n",
    "x_2=LpVariable('x_2',0,None,LpContinuous) #for x_2>= 0\n",
    "\n",
    "type(x_1)"
   ]
  },
  {
   "cell_type": "code",
   "execution_count": 4,
   "metadata": {},
   "outputs": [
    {
     "name": "stdout",
     "output_type": "stream",
     "text": [
      "pulp_example:\n",
      "MAXIMIZE\n",
      "1*x_1 + 1*x_2 + 0\n",
      "SUBJECT TO\n",
      "_C1: x_1 + 2 x_2 <= 9\n",
      "\n",
      "_C2: 2 x_1 + x_2 <= 8\n",
      "\n",
      "_C3: 3 x_1 - x_2 <= 4\n",
      "\n",
      "_C4: x_2 <= 3\n",
      "\n",
      "VARIABLES\n",
      "x_1 Continuous\n",
      "x_2 Continuous\n",
      "\n"
     ]
    }
   ],
   "source": [
    "#Let's create the problem:\n",
    "problem=LpProblem(\"pulp_example\", LpMaximize)  \n",
    "\n",
    "#Then add the function to be optimized and the constraints to the problem:\n",
    "problem += x_1+x_2\n",
    "\n",
    "problem += x_1+2*x_2<=9\n",
    "problem += 2*x_1+x_2<=8\n",
    "problem += 3*x_1-x_2<=4\n",
    "problem += x_2<=3\n",
    "\n",
    "#To see what we typed, we look at the problem\n",
    "print(problem)"
   ]
  },
  {
   "cell_type": "code",
   "execution_count": 5,
   "metadata": {},
   "outputs": [
    {
     "data": {
      "text/plain": [
       "1"
      ]
     },
     "execution_count": 5,
     "metadata": {},
     "output_type": "execute_result"
    }
   ],
   "source": [
    "#Now, to solve the problem we use .solve()\n",
    "problem.solve()"
   ]
  },
  {
   "cell_type": "markdown",
   "metadata": {},
   "source": [
    "If we want to understand what this output means, we need to look at problem status. Problem solution status can be found by using problem.status. But this will also give a number. To make sense of this number, we use LpStatus, which is a set of dictonary containing information about numbers and what they mean. If you look at the output below, you will see that 1 means the problem solution status is Optimal. "
   ]
  },
  {
   "cell_type": "code",
   "execution_count": 6,
   "metadata": {},
   "outputs": [
    {
     "name": "stdout",
     "output_type": "stream",
     "text": [
      "{0: 'Not Solved', 1: 'Optimal', -1: 'Infeasible', -2: 'Unbounded', -3: 'Undefined'}\n"
     ]
    }
   ],
   "source": [
    "print(LpStatus)\n"
   ]
  },
  {
   "cell_type": "code",
   "execution_count": 7,
   "metadata": {},
   "outputs": [
    {
     "name": "stdout",
     "output_type": "stream",
     "text": [
      "Problem solution status is 1\n",
      "Problem solution status is Optimal\n"
     ]
    }
   ],
   "source": [
    "status=problem.status\n",
    "\n",
    "print(\"Problem solution status is {}\".format(problem.status))\n",
    "\n",
    "print(\"Problem solution status is {}\".format(LpStatus[status]))\n"
   ]
  },
  {
   "cell_type": "markdown",
   "metadata": {},
   "source": [
    "In this problem, the problem solution status is Optimal. So, let's get the solution to our linear programming problem."
   ]
  },
  {
   "cell_type": "code",
   "execution_count": 8,
   "metadata": {},
   "outputs": [
    {
     "name": "stdout",
     "output_type": "stream",
     "text": [
      "x_1 value is 2.3333333 and x_2 value is 3.0\n",
      "------------------------\n",
      "Optimal solution is (2.3333333, 3.0)\n"
     ]
    }
   ],
   "source": [
    "first=x_1.varValue\n",
    "second=x_2.varValue\n",
    "\n",
    "print('x_1 value is {} and x_2 value is {}'.format(first,second))\n",
    "print('------------------------')\n",
    "print('Optimal solution is {}'.format((first,second)))"
   ]
  },
  {
   "cell_type": "markdown",
   "metadata": {},
   "source": [
    "We found the solution but not the optimal maximized value for our linear programming problem. We will do this in the following way:"
   ]
  },
  {
   "cell_type": "code",
   "execution_count": 9,
   "metadata": {},
   "outputs": [
    {
     "name": "stdout",
     "output_type": "stream",
     "text": [
      "x_1 + x_2\n",
      "5.3333333\n"
     ]
    }
   ],
   "source": [
    "print(problem.objective)\n",
    "\n",
    "#since we are looking for its value, we have to use .value() :\n",
    "\n",
    "print(value(problem.objective))"
   ]
  },
  {
   "cell_type": "markdown",
   "metadata": {},
   "source": [
    "Next, we practice what we learned on some examples with two variables and two constraints. Before we do that, we will type all these in one function so that we don't have to type everything over and over. For this, we have to define variables before we type the function.\n",
    "\n",
    "If the solution status is different than Optimal, we don't want to find out what the values for the variables and the objective. So, we will add an if conditional statement in our function after the status of the problem.\n"
   ]
  },
  {
   "cell_type": "code",
   "execution_count": 10,
   "metadata": {},
   "outputs": [],
   "source": [
    "#First, let's define the variables:\n",
    "\n",
    "x_1=LpVariable('x_1',0,None,LpContinuous) #for x_1>=0\n",
    "x_2=LpVariable('x_2',0,None,LpContinuous) #for x_2>= 0\n",
    "\n",
    "#Now, let's define our function as an lp problem with two constraints:\n",
    "\n",
    "def lp_problem2(objective,constraint1,constraint2):\n",
    "    problem=LpProblem(\"Example\", LpMaximize)  #LpMaximize\n",
    "    problem +=objective    #add the function to be optimized\n",
    "    problem +=constraint1  #add constraints to the problem\n",
    "    problem +=constraint2 \n",
    "    print(problem)\n",
    "    problem.solve()        #solve the problem\n",
    "    status=problem.status\n",
    "    print('----------------------------')\n",
    "    print(\"Problem solution status is {}\".format(LpStatus[status]))\n",
    "    print('----------------------------')\n",
    "    #Now, let's get the solution if problem status is Optimal (i.e., 1)\n",
    "    if status==1:\n",
    "        first=x_1.varValue\n",
    "        second=x_2.varValue\n",
    "        objective_value=value(problem.objective)\n",
    "        print('Optimal solution is {}'.format((first,second)))\n",
    "        print(\"So, the maximum value at this point is {}.\".format(objective_value))\n"
   ]
  },
  {
   "cell_type": "markdown",
   "metadata": {},
   "source": [
    " As usual, after defining function in this way, we call it with explicit statements instead of objective,constraint1,constraint2. If we want to solve another similar LpProblem, all we do is plug into those new objective function and constraint equations into the equation. \n",
    "\n",
    "Please remember that our aim in defining functions is for performing same repetitive tasks in a more efficient way."
   ]
  },
  {
   "cell_type": "markdown",
   "metadata": {},
   "source": [
    "## Example 1:\n",
    "\n",
    "Maximize $P=3x_1+2x_2+3$ subject to \n",
    "\n",
    "$3x_1+2x_2\\leq 8$\n",
    "\n",
    "$5x_1-2x_2 \\leq 10$\n"
   ]
  },
  {
   "cell_type": "code",
   "execution_count": 11,
   "metadata": {},
   "outputs": [
    {
     "name": "stdout",
     "output_type": "stream",
     "text": [
      "Example:\n",
      "MAXIMIZE\n",
      "3*x_1 + 2*x_2 + 3\n",
      "SUBJECT TO\n",
      "_C1: 3 x_1 + 2 x_2 <= 8\n",
      "\n",
      "_C2: 5 x_1 - 2 x_2 <= 10\n",
      "\n",
      "VARIABLES\n",
      "x_1 Continuous\n",
      "x_2 Continuous\n",
      "\n",
      "----------------------------\n",
      "Problem solution status is Optimal\n",
      "----------------------------\n",
      "Optimal solution is (2.25, 0.625)\n",
      "So, the maximum value at this point is 11.0.\n"
     ]
    }
   ],
   "source": [
    "lp_problem2(3*x_1+2*x_2+3,3*x_1+2*x_2<=8,5*x_1-2*x_2<=10)   "
   ]
  },
  {
   "cell_type": "markdown",
   "metadata": {},
   "source": [
    "## Example 2:\n",
    "\n",
    "Maximize $P=5x_1+4x_2$ subject to \n",
    "\n",
    "$3x_1-2x_2\\leq 4$\n",
    "\n",
    "$x_1-4x_2\\leq 14$\n",
    "\n"
   ]
  },
  {
   "cell_type": "code",
   "execution_count": 12,
   "metadata": {},
   "outputs": [
    {
     "name": "stdout",
     "output_type": "stream",
     "text": [
      "Example:\n",
      "MAXIMIZE\n",
      "5*x_1 + 4*x_2 + 0\n",
      "SUBJECT TO\n",
      "_C1: 3 x_1 - 2 x_2 <= 4\n",
      "\n",
      "_C2: x_1 - 4 x_2 <= 14\n",
      "\n",
      "VARIABLES\n",
      "x_1 Continuous\n",
      "x_2 Continuous\n",
      "\n",
      "----------------------------\n",
      "Problem solution status is Unbounded\n",
      "----------------------------\n"
     ]
    }
   ],
   "source": [
    "lp_problem2(5*x_1+4*x_2,3*x_1-2*x_2<=4,x_1-4*x_2<=14)   "
   ]
  },
  {
   "cell_type": "markdown",
   "metadata": {},
   "source": [
    "## Example 3:\n",
    "\n",
    "Maximize $P=x_1+4x_2$ subject to \n",
    "\n",
    "$-x_1+2x_2\\leq 2$\n",
    "\n",
    "$-2x_1+4x_2\\geq 10$\n",
    "\n"
   ]
  },
  {
   "cell_type": "code",
   "execution_count": 13,
   "metadata": {},
   "outputs": [
    {
     "name": "stdout",
     "output_type": "stream",
     "text": [
      "Example:\n",
      "MAXIMIZE\n",
      "1*x_1 + 4*x_2 + 0\n",
      "SUBJECT TO\n",
      "_C1: - x_1 + 2 x_2 <= 2\n",
      "\n",
      "_C2: - 2 x_1 + 4 x_2 >= 10\n",
      "\n",
      "VARIABLES\n",
      "x_1 Continuous\n",
      "x_2 Continuous\n",
      "\n",
      "----------------------------\n",
      "Problem solution status is Infeasible\n",
      "----------------------------\n"
     ]
    }
   ],
   "source": [
    "lp_problem2(x_1+4*x_2,-x_1+2*x_2<=2,-2*x_1+4*x_2>=10)   "
   ]
  },
  {
   "cell_type": "markdown",
   "metadata": {},
   "source": [
    "## Remarks:\n",
    "\n",
    "1. Note that in all the problems above, we defined variables x_1 and x_2 as continuous variables. If you would like to return integer values for variables, you have to use LpInteger instead of LpContinuous.\n",
    "\n",
    "2. Function given above works only for two variables with two given constraints. Think about how you would modify this function for a problem with more variables and/or more constraints."
   ]
  },
  {
   "cell_type": "markdown",
   "metadata": {},
   "source": [
    "## Example 4:\n",
    "\n",
    "In the following two problems, there is only one sign change -- in the first constraint, bounds are -2 and 2, respectively -- and problem goes from being infeasible to unbounded. \n"
   ]
  },
  {
   "cell_type": "code",
   "execution_count": 14,
   "metadata": {},
   "outputs": [
    {
     "name": "stdout",
     "output_type": "stream",
     "text": [
      "Example:\n",
      "MAXIMIZE\n",
      "1*x_1 + 2*x_2 + 0\n",
      "SUBJECT TO\n",
      "_C1: - x_1 + 2 x_2 <= -2\n",
      "\n",
      "_C2: 2 x_1 - 4 x_2 <= -4\n",
      "\n",
      "VARIABLES\n",
      "x_1 Continuous\n",
      "x_2 Continuous\n",
      "\n",
      "----------------------------\n",
      "Problem solution status is Infeasible\n",
      "----------------------------\n",
      "Example:\n",
      "MAXIMIZE\n",
      "1*x_1 + 2*x_2 + 0\n",
      "SUBJECT TO\n",
      "_C1: - x_1 + 2 x_2 <= 2\n",
      "\n",
      "_C2: 2 x_1 - 4 x_2 <= -4\n",
      "\n",
      "VARIABLES\n",
      "x_1 Continuous\n",
      "x_2 Continuous\n",
      "\n",
      "----------------------------\n",
      "Problem solution status is Unbounded\n",
      "----------------------------\n"
     ]
    }
   ],
   "source": [
    "lp_problem2(x_1+2*x_2,-x_1+2*x_2<=-2,2*x_1-4*x_2<=-4) \n",
    "lp_problem2(x_1+2*x_2,-x_1+2*x_2<=2,2*x_1-4*x_2<=-4) "
   ]
  },
  {
   "cell_type": "markdown",
   "metadata": {},
   "source": [
    "## Example 5:\n",
    "\n",
    "Sometimes, we want to explore the problem and determine how the solution changes depending on a bound. For example, assume that we produce two products by using two raw materials. We want to explore how profit (i.e., objective function) changes depending on the amount of second raw material that we could order. Accordingly, we can determine how many units of second raw material that we have to order (details of problems like this will be explored during lectures. You may also take a look at Bonus tutorials).\n",
    "\n",
    "To explore all these possibilities, we could use a for loop and get results and compare them. Since we want to see results only, let's first adjust function given above so that it produces only optimal solution, optimal value and problem status. After that, we show a sample analysis with an example."
   ]
  },
  {
   "cell_type": "code",
   "execution_count": 15,
   "metadata": {},
   "outputs": [
    {
     "name": "stdout",
     "output_type": "stream",
     "text": [
      "1 Optimal solution:(0.0, 0.0), optimal value: 0.0, Problem status: Optimal\n",
      "2 Optimal solution:(0.0, 1.0), optimal value: 3.0, Problem status: Optimal\n",
      "3 Optimal solution:(0.0, 1.0), optimal value: 3.0, Problem status: Optimal\n",
      "4 Optimal solution:(0.0, 2.0), optimal value: 6.0, Problem status: Optimal\n",
      "5 Optimal solution:(0.0, 2.0), optimal value: 6.0, Problem status: Optimal\n",
      "6 Optimal solution:(0.0, 3.0), optimal value: 9.0, Problem status: Optimal\n",
      "7 Optimal solution:(0.0, 3.0), optimal value: 9.0, Problem status: Optimal\n",
      "8 Optimal solution:(0.0, 3.0), optimal value: 9.0, Problem status: Optimal\n",
      "9 Optimal solution:(0.0, 3.0), optimal value: 9.0, Problem status: Optimal\n",
      "10 Optimal solution:(2.0, 2.0), optimal value: 10.0, Problem status: Optimal\n",
      "11 Optimal solution:(2.0, 2.0), optimal value: 10.0, Problem status: Optimal\n",
      "12 Optimal solution:(2.0, 2.0), optimal value: 10.0, Problem status: Optimal\n",
      "13 Optimal solution:(2.0, 2.0), optimal value: 10.0, Problem status: Optimal\n",
      "14 Optimal solution:(4.0, 1.0), optimal value: 11.0, Problem status: Optimal\n"
     ]
    }
   ],
   "source": [
    "#First, let's define the variables:\n",
    "\n",
    "x_1=LpVariable('x_1',0,None,LpInteger) #for x_1>=0\n",
    "x_2=LpVariable('x_2',0,None,LpInteger) #for x_2>= 0\n",
    "\n",
    "#Now, let's define our function as an lp problem with two constraints:\n",
    "\n",
    "def lp_analysis(objective,constraint1,constraint2):\n",
    "    problem=LpProblem(\"Example\", LpMaximize)  #LpMaximize\n",
    "    problem +=objective    #add the function to be optimized\n",
    "    problem +=constraint1  #add constraints to the problem\n",
    "    problem +=constraint2 \n",
    "    problem.solve()        #solve the problem\n",
    "    status=problem.status\n",
    "    if status==1:\n",
    "        first=x_1.varValue\n",
    "        second=x_2.varValue\n",
    "        objective_value=value(problem.objective)\n",
    "        return 'Optimal solution:{}, optimal value: {}, Problem status: {}'.format((first,second),objective_value,LpStatus[status])\n",
    "\n",
    "for amount in range(1,15):\n",
    "    print(amount,lp_analysis(2*x_1+3*x_2,2*x_1+4*x_2<=12,3*x_1+2*x_2<=amount))"
   ]
  },
  {
   "cell_type": "markdown",
   "metadata": {},
   "source": [
    "Notice that optimal value=10 when we have 10, 11, 12 or 13 units of the second raw material. So, if we order 13 units, we would get the same profit as if we ordered 10 units (also making the same amount of products). If we won't be using those 3 extra units, it might go to waste. \n",
    "\n",
    "On a side note, if we order 14 units (only one more), our profit increases in addition to number of products that we are producing. \n",
    "\n",
    "Even though this is a very simple example, it shows us that by using linear programming methods, we could increase the objective function while making sure that nothing goes to waste."
   ]
  },
  {
   "cell_type": "code",
   "execution_count": null,
   "metadata": {},
   "outputs": [],
   "source": []
  }
 ],
 "metadata": {
  "kernelspec": {
   "display_name": "Python 3",
   "language": "python",
   "name": "python3"
  },
  "language_info": {
   "codemirror_mode": {
    "name": "ipython",
    "version": 3
   },
   "file_extension": ".py",
   "mimetype": "text/x-python",
   "name": "python",
   "nbconvert_exporter": "python",
   "pygments_lexer": "ipython3",
   "version": "3.7.3"
  }
 },
 "nbformat": 4,
 "nbformat_minor": 2
}

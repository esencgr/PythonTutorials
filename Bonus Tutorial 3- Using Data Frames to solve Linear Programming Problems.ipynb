{
 "cells": [
  {
   "cell_type": "markdown",
   "metadata": {},
   "source": [
    "# Using Dataframes to solve a Linear Programming Problem"
   ]
  },
  {
   "cell_type": "markdown",
   "metadata": {},
   "source": [
    "Now, we are ready to see another way of using dataframes in Math. Let's try to solve the Linear Programming problem using dataframes. Recall that we solved this problem in class by using Simplex Method.\n",
    "\n",
    "This idea can be generalized to many different problems and it would be very useful in solving these types of problems."
   ]
  },
  {
   "cell_type": "markdown",
   "metadata": {},
   "source": [
    "Let's say we are producing two products, product_1 and product_2, by using three different raw materials, raw_material_1, raw_material_2 and raw_material_3.\n",
    "\n",
    "To make one unit of product_1, we use\n",
    "<ul>\n",
    "<li>3 units of raw_material_1,</li>\n",
    "<li>4 units of raw_material_2 and</li>\n",
    "<li>5 units of raw_material_3; </li>\n",
    "</ul>\n",
    "\n",
    "to make one unit of product_2, we use \n",
    "<ul>\n",
    "<li>5 units of raw_material_1, </li>\n",
    "<li>5 units of raw_material_2 and </li>\n",
    "<li>4 units of raw_material_3.</li>\n",
    "</ul>\n",
    "We have 350 units of raw_material_1, 450 units of raw_material_2 and 400 units of raw_material_3 available at hand. Let the profit per one product_1 made be \\$10 and per product_2 made be \\$15. If we want to maximize the profit, how many product_1 and product_2 that we should make? What would be the total profit?\n",
    "\n",
    "Let's solve this problem by using Python:"
   ]
  },
  {
   "cell_type": "code",
   "execution_count": 4,
   "metadata": {},
   "outputs": [
    {
     "data": {
      "text/html": [
       "<div>\n",
       "<style scoped>\n",
       "    .dataframe tbody tr th:only-of-type {\n",
       "        vertical-align: middle;\n",
       "    }\n",
       "\n",
       "    .dataframe tbody tr th {\n",
       "        vertical-align: top;\n",
       "    }\n",
       "\n",
       "    .dataframe thead th {\n",
       "        text-align: right;\n",
       "    }\n",
       "</style>\n",
       "<table border=\"1\" class=\"dataframe\">\n",
       "  <thead>\n",
       "    <tr style=\"text-align: right;\">\n",
       "      <th></th>\n",
       "      <th>product_1</th>\n",
       "      <th>product_2</th>\n",
       "      <th>upper_bound</th>\n",
       "    </tr>\n",
       "  </thead>\n",
       "  <tbody>\n",
       "    <tr>\n",
       "      <th>raw_material_1</th>\n",
       "      <td>3</td>\n",
       "      <td>5</td>\n",
       "      <td>350.0</td>\n",
       "    </tr>\n",
       "    <tr>\n",
       "      <th>raw_material_2</th>\n",
       "      <td>4</td>\n",
       "      <td>5</td>\n",
       "      <td>450.0</td>\n",
       "    </tr>\n",
       "    <tr>\n",
       "      <th>raw_material_3</th>\n",
       "      <td>5</td>\n",
       "      <td>4</td>\n",
       "      <td>400.0</td>\n",
       "    </tr>\n",
       "    <tr>\n",
       "      <th>profit_per_product</th>\n",
       "      <td>10</td>\n",
       "      <td>15</td>\n",
       "      <td>NaN</td>\n",
       "    </tr>\n",
       "  </tbody>\n",
       "</table>\n",
       "</div>"
      ],
      "text/plain": [
       "                    product_1  product_2  upper_bound\n",
       "raw_material_1              3          5        350.0\n",
       "raw_material_2              4          5        450.0\n",
       "raw_material_3              5          4        400.0\n",
       "profit_per_product         10         15          NaN"
      ]
     },
     "execution_count": 4,
     "metadata": {},
     "output_type": "execute_result"
    }
   ],
   "source": [
    "#First, let's import the packages that we will be using:\n",
    "import pandas as pd\n",
    "from pulp import *\n",
    "import numpy as np\n",
    "\n",
    "#now, collect all the information in a dictionary so that we could create our data frame:\n",
    "prob_dict={'product_1':[3,4,5,10],'product_2':[5,5,4,15], 'upper_bound':[350,450,400,np.NaN]}\n",
    "\n",
    "raw_materials=['raw_material_1', 'raw_material_2', 'raw_material_3','profit_per_product']\n",
    "\n",
    "df=pd.DataFrame(data=prob_dict, index=raw_materials)\n",
    "\n",
    "df"
   ]
  },
  {
   "cell_type": "code",
   "execution_count": 5,
   "metadata": {},
   "outputs": [],
   "source": [
    "#Define variables:\n",
    "x_1=LpVariable('x_1',0,None,LpInteger) #number of product_1, note that it is an integer value\n",
    "x_2=LpVariable('x_2',0,None,LpInteger) #number of product_2, note that it is an integer value\n",
    "\n",
    "def LinProgProblem(df,x_1,x_2):\n",
    "    problem=LpProblem(\"LP using dataframes\", LpMaximize)\n",
    "    \n",
    "    problem += df.loc['profit_per_product','product_1']*x_1+df.loc['profit_per_product','product_2']*x_2\n",
    "    problem += df.loc['raw_material_1','product_1']*x_1+df.loc['raw_material_1','product_2']*x_2<=df.loc['raw_material_1','upper_bound']\n",
    "    problem += df.loc['raw_material_2','product_1']*x_1+df.loc['raw_material_2','product_2']*x_2<=df.loc['raw_material_2','upper_bound']\n",
    "    problem += df.loc['raw_material_3','product_1']*x_1+df.loc['raw_material_3','product_2']*x_2<=df.loc['raw_material_3','upper_bound']\n",
    "    print(problem)\n",
    "    problem.solve()\n",
    "    status=problem.status\n",
    "    print(\"Problem solution status is {}\".format(LpStatus[status]))\n",
    "    if status==1:\n",
    "        x_1=x_1.varValue\n",
    "        x_2=x_2.varValue\n",
    "        return 'optimal solution is {} and max profit is ${}'.format((x_1,x_2),value(problem.objective))\n",
    "\n"
   ]
  },
  {
   "cell_type": "code",
   "execution_count": 6,
   "metadata": {},
   "outputs": [
    {
     "name": "stdout",
     "output_type": "stream",
     "text": [
      "LP using dataframes:\n",
      "MAXIMIZE\n",
      "10*x_1 + 15*x_2 + 0\n",
      "SUBJECT TO\n",
      "_C1: 3 x_1 + 5 x_2 <= 350\n",
      "\n",
      "_C2: 4 x_1 + 5 x_2 <= 450\n",
      "\n",
      "_C3: 5 x_1 + 4 x_2 <= 400\n",
      "\n",
      "VARIABLES\n",
      "0 <= x_1 Integer\n",
      "0 <= x_2 Integer\n",
      "\n",
      "Problem solution status is Optimal\n"
     ]
    },
    {
     "data": {
      "text/plain": [
       "'optimal solution is (45.0, 43.0) and max profit is $1095.0'"
      ]
     },
     "execution_count": 6,
     "metadata": {},
     "output_type": "execute_result"
    }
   ],
   "source": [
    "LinProgProblem(df,x_1,x_2)"
   ]
  },
  {
   "cell_type": "markdown",
   "metadata": {},
   "source": [
    "## Remarks\n",
    "\n",
    "1. As you can see from the results, if we make more product_1 (even if we earn \\$5 less than product_2 per unit), we make more money with these constraints. \n",
    "\n",
    "2. As the code below shows, we used 350 units of raw_1, 395 units of raw_2 and 397 units of raw_3.  There were 350, 450 and 400 units of raw_1, raw_2 and raw_3 available. "
   ]
  },
  {
   "cell_type": "code",
   "execution_count": 44,
   "metadata": {},
   "outputs": [
    {
     "name": "stdout",
     "output_type": "stream",
     "text": [
      "We used 350 units of raw_1. There were 350 units available.\n",
      "We used 395 units of raw_2. There were 450 units available.\n",
      "We used 397 units of raw_3. There were 400 units available.\n"
     ]
    }
   ],
   "source": [
    "x_1=45\n",
    "x_2=43\n",
    "\n",
    "raw_1=350\n",
    "raw_2=450\n",
    "raw_3=400\n",
    "\n",
    "def C_1(x_1,x_2):\n",
    "    return 3*x_1 + 5*x_2 \n",
    "\n",
    "def C_2(x_1,x_2):\n",
    "    return 4*x_1 + 5*x_2 \n",
    "\n",
    "def C_3(x_1,x_2):\n",
    "    return 5*x_1 + 4*x_2 \n",
    "\n",
    "print('We used {} units of raw_1. There were {} units available.'.format(C_1(x_1,x_2),raw_1))\n",
    "print('We used {} units of raw_2. There were {} units available.'.format(C_2(x_1,x_2),raw_2))\n",
    "print('We used {} units of raw_3. There were {} units available.'.format(C_3(x_1,x_2),raw_3))\n"
   ]
  },
  {
   "cell_type": "markdown",
   "metadata": {},
   "source": [
    "## Further Explorations\n",
    "\n",
    "Let's explore this problem even more. Since the factory produces these products, the amount of raw materials that we use for one unit of product_1 and one unit of product_2 won't change. However, we could decide about how much raw materials we could but to maximize it even further. To analyze this situation, let's create the function below. In this function, profit_1, profit_2, upper_1, upper_2 and upper_3 are given as inputs. \n"
   ]
  },
  {
   "cell_type": "code",
   "execution_count": 8,
   "metadata": {},
   "outputs": [],
   "source": [
    "def LinProbAnalysis(profit_1,profit_2,upper_1,upper_2,upper_3):\n",
    "    x_1=LpVariable('x_1',0,None,LpInteger) #number of product_1\n",
    "    x_2=LpVariable('x_2',0,None,LpInteger) #number of product_2\n",
    "    problem=LpProblem(\"LP analysis\", LpMaximize)\n",
    "    \n",
    "    problem += profit_1*x_1+profit_2*x_2\n",
    "    problem += 3*x_1+5*x_2<=upper_1 \n",
    "    problem += 4*x_1+5*x_2<=upper_2\n",
    "    problem += 5*x_1+4*x_2<=upper_3\n",
    "    #print(problem)\n",
    "    problem.solve()\n",
    "    status=problem.status\n",
    "    #print(\"Problem solution status is {}\".format(LpStatus[status]))\n",
    "    if status==1:\n",
    "        x_1=x_1.varValue\n",
    "        x_2=x_2.varValue\n",
    "        val=value(problem.objective)\n",
    "        return (x_1,x_2,val)\n"
   ]
  },
  {
   "cell_type": "markdown",
   "metadata": {},
   "source": [
    "Let's check the code by using the numbers given in the original problem above."
   ]
  },
  {
   "cell_type": "code",
   "execution_count": 9,
   "metadata": {},
   "outputs": [
    {
     "data": {
      "text/plain": [
       "(45.0, 43.0, 1095.0)"
      ]
     },
     "execution_count": 9,
     "metadata": {},
     "output_type": "execute_result"
    }
   ],
   "source": [
    "LinProbAnalysis(10,15,350,450,400)"
   ]
  },
  {
   "cell_type": "markdown",
   "metadata": {},
   "source": [
    "This was exactly what we had before. So, the function works well."
   ]
  },
  {
   "cell_type": "markdown",
   "metadata": {},
   "source": [
    "## Problem \n",
    "\n",
    "Let's say, we have already bought 350 units of raw_1, 450 units of raw_2 and 400 units of raw_3. Assume that we could even buy another 150 units of raw_1. However, since we already have fixed amounts of raw_2 and raw_3, buying 150 more units of raw_1 would be a waste of money. Therefore, we want to determine how many units of raw_1 we should order so that we maximize profit while not buying more than what we need.\n",
    "\n",
    "For this, we will look at the range(350,500) and compute the objective (i.e., total profit) for each of those values. We will collect total profit values in the optimal_list. Since we want to find out which bound value would give the max profit first, we will have another list storing (bound,objective) values.\n",
    "\n",
    "Plotting bound vs profit will help us to see the general pattern and accordingly we could make a wise decision."
   ]
  },
  {
   "cell_type": "code",
   "execution_count": 29,
   "metadata": {},
   "outputs": [],
   "source": [
    "bound_optimal_list=[]\n",
    "optimal_list=[]\n",
    "\n",
    "for bound in range(350,500):\n",
    "    result=LinProbAnalysis(10,15,bound,450,400)\n",
    "    objective=result[2]\n",
    "    #print('available raw_1 is {}'.format(bound))\n",
    "    #print('optimal solution is {} and max profit is ${}'.format((x_1,x_2),objective))\n",
    "    #print('---------------------')\n",
    "    bound_optimal_list.append((bound,objective))\n",
    "    optimal_list.append(objective)\n"
   ]
  },
  {
   "cell_type": "markdown",
   "metadata": {},
   "source": [
    "Now, let's look at the plot:"
   ]
  },
  {
   "cell_type": "code",
   "execution_count": 30,
   "metadata": {},
   "outputs": [
    {
     "data": {
      "image/png": "[encoded data removed]",
      "text/plain": [
       "<Figure size 432x288 with 1 Axes>"
      ]
     },
     "metadata": {
      "needs_background": "light"
     },
     "output_type": "display_data"
    }
   ],
   "source": [
    "import matplotlib.pyplot as plt\n",
    "\n",
    "bound=range(350,500)\n",
    "\n",
    "plt.plot(bound,optimal_list)\n",
    "plt.xlabel('bound')\n",
    "plt.ylabel('profit')\n",
    "\n",
    "plt.show()"
   ]
  },
  {
   "cell_type": "markdown",
   "metadata": {},
   "source": [
    "As this plot clearly shows, after a certain amount of raw_1, profit stays the same. This is probably due to the fixed amounts of raw_2 and raw_3 at hand.\n",
    "\n",
    "Let's find the first instance when we get that profit. For this, we first find the last profit amount printed by typing optimal_list[-1], then by using a for loop and break statement, we will find the first instance of getting that profit."
   ]
  },
  {
   "cell_type": "code",
   "execution_count": 31,
   "metadata": {},
   "outputs": [
    {
     "name": "stdout",
     "output_type": "stream",
     "text": [
      "1350.0\n",
      "(450, 1350.0)\n"
     ]
    }
   ],
   "source": [
    "last_item=optimal_list[-1]\n",
    "\n",
    "print(last_item)\n",
    "\n",
    "for item in bound_optimal_list:\n",
    "    if item[1]==last_item:\n",
    "        print(item)\n",
    "        break\n"
   ]
  },
  {
   "cell_type": "markdown",
   "metadata": {},
   "source": [
    "As you see, the first time we get $1350 total profit was when we used 450 units of raw_1. So, if we order more than 450 units, we won't be using them at all and that could be a waste in some situations.\n",
    "\n",
    "Let's find how many units of product_1 and product_2 that we are making. For this, we have to change upper_bound column of the original dataframe df, and rewrite and run the LinProgProb again."
   ]
  },
  {
   "cell_type": "code",
   "execution_count": 41,
   "metadata": {},
   "outputs": [
    {
     "name": "stdout",
     "output_type": "stream",
     "text": [
      "LP using dataframes:\n",
      "MAXIMIZE\n",
      "10*x_1 + 15*x_2 + 0\n",
      "SUBJECT TO\n",
      "_C1: 3 x_1 + 5 x_2 <= 450\n",
      "\n",
      "_C2: 4 x_1 + 5 x_2 <= 450\n",
      "\n",
      "_C3: 5 x_1 + 4 x_2 <= 400\n",
      "\n",
      "VARIABLES\n",
      "0 <= x_1 Integer\n",
      "0 <= x_2 Integer\n",
      "\n",
      "Problem solution status is Optimal\n"
     ]
    },
    {
     "data": {
      "text/plain": [
       "'optimal solution is (0.0, 90.0) and max profit is $1350.0'"
      ]
     },
     "execution_count": 41,
     "metadata": {},
     "output_type": "execute_result"
    }
   ],
   "source": [
    "df['upper_bound']=[450,450,400,np.NaN]\n",
    "\n",
    "#Define variables:\n",
    "x_1=LpVariable('x_1',0,None,LpInteger) #number of product_1, note that it is an integer value\n",
    "x_2=LpVariable('x_2',0,None,LpInteger) #number of product_2, note that it is an integer value\n",
    "\n",
    "def LinProgProblem(df,x_1,x_2):\n",
    "    problem=LpProblem(\"LP using dataframes\", LpMaximize)\n",
    "    \n",
    "    problem += df.loc['profit_per_product','product_1']*x_1+df.loc['profit_per_product','product_2']*x_2\n",
    "    problem += df.loc['raw_material_1','product_1']*x_1+df.loc['raw_material_1','product_2']*x_2<=df.loc['raw_material_1','upper_bound']\n",
    "    problem += df.loc['raw_material_2','product_1']*x_1+df.loc['raw_material_2','product_2']*x_2<=df.loc['raw_material_2','upper_bound']\n",
    "    problem += df.loc['raw_material_3','product_1']*x_1+df.loc['raw_material_3','product_2']*x_2<=df.loc['raw_material_3','upper_bound']\n",
    "    print(problem)\n",
    "    problem.solve()\n",
    "    status=problem.status\n",
    "    print(\"Problem solution status is {}\".format(LpStatus[status]))\n",
    "    if status==1:\n",
    "        x_1=x_1.varValue\n",
    "        x_2=x_2.varValue\n",
    "        return 'optimal solution is {} and max profit is ${}'.format((x_1,x_2),value(problem.objective))\n",
    "\n",
    "LinProgProblem(df,x_1,x_2)\n",
    "\n"
   ]
  },
  {
   "cell_type": "markdown",
   "metadata": {},
   "source": [
    "This shows that if we produce 90 units of product_2 and none of product_1, we would maximize the total profit.\n"
   ]
  },
  {
   "cell_type": "code",
   "execution_count": 43,
   "metadata": {},
   "outputs": [
    {
     "name": "stdout",
     "output_type": "stream",
     "text": [
      "We used 450 units of raw_1. There were 450 units available.\n",
      "We used 450 units of raw_2. There were 450 units available.\n",
      "We used 360 units of raw_3. There were 400 units available.\n"
     ]
    }
   ],
   "source": [
    "x_1=0\n",
    "x_2=90\n",
    "\n",
    "raw_1=450\n",
    "raw_2=450\n",
    "raw_3=400\n",
    "\n",
    "def C_1(x_1,x_2):\n",
    "    return 3*x_1 + 5*x_2 \n",
    "\n",
    "def C_2(x_1,x_2):\n",
    "    return 4*x_1 + 5*x_2 \n",
    "\n",
    "def C_3(x_1,x_2):\n",
    "    return 5*x_1 + 4*x_2 \n",
    "\n",
    "print('We used {} units of raw_1. There were {} units available.'.format(C_1(x_1,x_2),raw_1))\n",
    "print('We used {} units of raw_2. There were {} units available.'.format(C_2(x_1,x_2),raw_2))\n",
    "print('We used {} units of raw_3. There were {} units available.'.format(C_3(x_1,x_2),raw_3))\n"
   ]
  },
  {
   "cell_type": "markdown",
   "metadata": {},
   "source": [
    "Change the constraints, add or subtract more constraints and play with this problem. For example,\n",
    "\n",
    "* What would happen if we increase the profit per one unit of product 1? Is there an upper limit due to constraints? \n",
    "* If we have a choice of increasing profit per one unit of only one item, which would be better? Increasing profit per one unit of product_1 or per one unit of product_2?\n",
    "* How is this related to the geometry of the feasible region?\n",
    "\n",
    "As you can see, linear programming is very useful in solving these type of optimization problems."
   ]
  },
  {
   "cell_type": "code",
   "execution_count": null,
   "metadata": {},
   "outputs": [],
   "source": []
  }
 ],
 "metadata": {
  "kernelspec": {
   "display_name": "Python 3",
   "language": "python",
   "name": "python3"
  },
  "language_info": {
   "codemirror_mode": {
    "name": "ipython",
    "version": 3
   },
   "file_extension": ".py",
   "mimetype": "text/x-python",
   "name": "python",
   "nbconvert_exporter": "python",
   "pygments_lexer": "ipython3",
   "version": "3.7.3"
  }
 },
 "nbformat": 4,
 "nbformat_minor": 2
}

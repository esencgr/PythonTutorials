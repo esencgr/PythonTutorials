{
 "cells": [
  {
   "cell_type": "markdown",
   "metadata": {},
   "source": [
    "# Determinants, Eigenvalues and Eigenvectors\n",
    "\n",
    "In this tutorial, we will cover determinants, eigenvalues and eigenvectors. First, we will cover them briefly so that we get familiar with the code and will learn how to read the output. After that, we will cover three important examples related to orthogonal projections, reflections and network graphs. We will briefly cover each one for the sake of brevity. However, applications are endless and I encourage you to explore them further in your studies, if applicable.\n",
    "\n",
    "Some documentation links are as follows:\n",
    "\n",
    "Determinant: https://docs.scipy.org/doc/scipy/reference/generated/scipy.linalg.det.html#scipy.linalg.det\n",
    "\n",
    "Eigenvalues, eigenvectors: https://docs.scipy.org/doc/numpy/reference/generated/numpy.linalg.eig.html#numpy.linalg.eig\n",
    "\n",
    "Networkx: https://networkx.github.io/documentation/latest/index.html\n",
    "\n",
    "Networkx tutorial: https://networkx.github.io/documentation/latest/tutorial.html\n"
   ]
  },
  {
   "cell_type": "code",
   "execution_count": 1,
   "metadata": {},
   "outputs": [],
   "source": [
    "import numpy as np\n",
    "import scipy.linalg as la"
   ]
  },
  {
   "cell_type": "markdown",
   "metadata": {},
   "source": [
    "## Determinants\n",
    "\n",
    "We can compute determinant of a matrix $A$ by using using la.det(A)."
   ]
  },
  {
   "cell_type": "code",
   "execution_count": 2,
   "metadata": {},
   "outputs": [
    {
     "data": {
      "text/plain": [
       "1.0"
      ]
     },
     "execution_count": 2,
     "metadata": {},
     "output_type": "execute_result"
    }
   ],
   "source": [
    "A=np.array([[1,2],[2,5]])\n",
    "\n",
    "la.det(A)"
   ]
  },
  {
   "cell_type": "markdown",
   "metadata": {},
   "source": [
    "## Eigenvalues and Eigenvectors\n",
    "\n",
    "Let $A$ be an $n\\times n$ matrix. A nonzero vector ${\\mathbf v}$ in ${\\mathbb R}^n$ is called an eigenvector of $A$ if $A{\\mathbf v}$ is a scalar multiple of ${\\mathbf v}$. That means, there exists a number $\\lambda$ such that\n",
    "$$A{\\mathbf v}=\\lambda{\\mathbf v}.$$\n",
    "\n",
    "This is the eigenvalue-eigenvector equation.\n",
    "\n",
    "To compute eigenvalues of a matrix $A$ in Python, we use la.eigvals(A). If we also want to compute eigenvectors, we use la.eig(A) which will give a tuple as an output. The first array in that tuple is an array containing eigenvalues while in the second array we have eigenvectors corresponding to these eigenvalues. Output of eigenvalues is in the form $a+bj$ where $a$ is the real part and $bj$ is the complex part with $j$ such that $j^2=-1$. Note that in this output, eigenvectors are normalized. "
   ]
  },
  {
   "cell_type": "code",
   "execution_count": 3,
   "metadata": {},
   "outputs": [
    {
     "data": {
      "text/plain": [
       "array([2.+0.j, 4.+0.j])"
      ]
     },
     "execution_count": 3,
     "metadata": {},
     "output_type": "execute_result"
    }
   ],
   "source": [
    "A=np.array([[2,-1],[0,4]])\n",
    "\n",
    "la.eigvals(A)"
   ]
  },
  {
   "cell_type": "markdown",
   "metadata": {},
   "source": [
    "This shows that matrix $A$ has two eigenvalues, $\\lambda_1=2$ and $\\lambda_2=4$. Let's find eigenvectors."
   ]
  },
  {
   "cell_type": "code",
   "execution_count": 4,
   "metadata": {},
   "outputs": [
    {
     "data": {
      "text/plain": [
       "(array([2.+0.j, 4.+0.j]), array([[ 1.        , -0.4472136 ],\n",
       "        [ 0.        ,  0.89442719]]))"
      ]
     },
     "execution_count": 4,
     "metadata": {},
     "output_type": "execute_result"
    }
   ],
   "source": [
    "la.eig(A)"
   ]
  },
  {
   "cell_type": "markdown",
   "metadata": {},
   "source": [
    "Note that the second array in the tuple gives us the matrix $S=[v_1,v_2]$ where $v_1$ and $v_2$ are the eigenvectors of the matrix $A$.\n",
    "\n",
    "To obtain eigenvectors, we first have to transpose the second array in this tuple. "
   ]
  },
  {
   "cell_type": "code",
   "execution_count": 5,
   "metadata": {},
   "outputs": [
    {
     "name": "stdout",
     "output_type": "stream",
     "text": [
      "Second array is [[ 1.         -0.4472136 ]\n",
      " [ 0.          0.89442719]]\n",
      "First eigenvector is [1. 0.]\n",
      "Second eigenvector is [-0.4472136   0.89442719]\n"
     ]
    }
   ],
   "source": [
    "second=la.eig(A)[1]\n",
    "\n",
    "print('Second array is {}'.format(second))\n",
    "\n",
    "ev_1=np.transpose(second)[0]\n",
    "\n",
    "ev_2=np.transpose(second)[1]\n",
    "\n",
    "print('First eigenvector is {}'.format(ev_1))\n",
    "print('Second eigenvector is {}'.format(ev_2))"
   ]
  },
  {
   "cell_type": "code",
   "execution_count": 6,
   "metadata": {},
   "outputs": [
    {
     "name": "stdout",
     "output_type": "stream",
     "text": [
      "[ True  True]\n",
      "[ True  True]\n"
     ]
    }
   ],
   "source": [
    "first=la.eig(A)[0]\n",
    "second=la.eig(A)[1]\n",
    "\n",
    "l_1=first[0]\n",
    "l_2=first[1]\n",
    "ev_1=np.transpose(second)[0]\n",
    "ev_2=np.transpose(second)[1]\n",
    "\n",
    "print(np.dot(A,ev_1)==l_1*ev_1)\n",
    "print(np.dot(A,ev_2)==l_2*ev_2)"
   ]
  },
  {
   "cell_type": "markdown",
   "metadata": {},
   "source": [
    "#### Note: \n",
    "\n",
    "Eigenvalues are $\\lambda_1=2$ and $\\lambda_2=4$. Eigenvectors are ${\\mathbf v}_1=\\begin{bmatrix} 1 \\\\ 0 \\end{bmatrix}$ and ${\\mathbf v}_2=\\begin{bmatrix} -0.4472136 \\\\ 0.89442719 \\end{bmatrix}$, respectively.\n",
    "\n",
    "If we do this manually, we get ${\\mathbf v}_2=\\begin{bmatrix} -1\\\\2\\end{bmatrix}$ for $\\lambda_1=4$. However, nothing is wrong here. Notice that Python gave us normalized or multiple versions of eigenvectors. This is all ok since any multiple of an eigenvector is in the same eigenspace corresponding to that eigenvalue, so it is also an eigenvector.\n"
   ]
  },
  {
   "cell_type": "markdown",
   "metadata": {},
   "source": [
    "### Function for eigenvalues and eigenvectors:\n",
    "\n",
    "Now, let's write a function that gives us eigenvalue-eigenvector pairs as a list."
   ]
  },
  {
   "cell_type": "code",
   "execution_count": 7,
   "metadata": {},
   "outputs": [],
   "source": [
    "def eigenpairs(A):\n",
    "    lst=[]\n",
    "    size=len(A)\n",
    "    first=la.eig(A)[0]\n",
    "    second=la.eig(A)[1]\n",
    "    for i in range(0,size):\n",
    "        eigenvalue=first[i]\n",
    "        eigenvector=np.transpose(second)[i]\n",
    "        lst.append((eigenvalue,eigenvector))\n",
    "    return lst\n"
   ]
  },
  {
   "cell_type": "code",
   "execution_count": 8,
   "metadata": {},
   "outputs": [
    {
     "data": {
      "text/plain": [
       "[((2+0j), array([1., 0.])), ((4+0j), array([-0.4472136 ,  0.89442719]))]"
      ]
     },
     "execution_count": 8,
     "metadata": {},
     "output_type": "execute_result"
    }
   ],
   "source": [
    "eigenpairs(A)"
   ]
  },
  {
   "cell_type": "markdown",
   "metadata": {},
   "source": [
    "### 3x3 matrix example"
   ]
  },
  {
   "cell_type": "code",
   "execution_count": 9,
   "metadata": {},
   "outputs": [
    {
     "data": {
      "text/plain": [
       "[((2+0j), array([1., 0., 0.])),\n",
       " ((1+0j), array([0.70710678, 0.70710678, 0.        ])),\n",
       " ((3+0j), array([-0.40824829,  0.81649658,  0.40824829]))]"
      ]
     },
     "execution_count": 9,
     "metadata": {},
     "output_type": "execute_result"
    }
   ],
   "source": [
    "#upper triangular matrix to check easily\n",
    "A_2=np.array([[2,-1,1],[0,1,4],[0,0,3]])\n",
    "\n",
    "eigenpairs(A_2)"
   ]
  },
  {
   "cell_type": "markdown",
   "metadata": {},
   "source": [
    "### Diagonalization\n",
    "\n",
    "An $n\\times n$ matrix $A$ is called diagonalizable if $A$ is similar to some diagonal matrix $D$. That means, there exists an invertible matrix $S$ such that $D=S^{-1}AS$. For this, we will use eigenvalues and eigenvectors. Note that in the output of la.eig(A), the second term is an array whose columns are eigenvectors of A. For this to work, we should have a total of $n$ linearly eigenvectors of $A$. That means, $A$ is diagonalizable iff sum of dimensions of all eigenspaces should be $n$. Diagonal entries in matrix $D$ are the eigenvalues of $A$."
   ]
  },
  {
   "cell_type": "code",
   "execution_count": 10,
   "metadata": {},
   "outputs": [
    {
     "data": {
      "text/plain": [
       "array([[2., 0.],\n",
       "       [0., 4.]])"
      ]
     },
     "execution_count": 10,
     "metadata": {},
     "output_type": "execute_result"
    }
   ],
   "source": [
    "S=la.eig(A)[1]\n",
    "Sinv=la.inv(S)\n",
    "\n",
    "D=np.dot(Sinv,np.dot(A,S))\n",
    "\n",
    "D"
   ]
  },
  {
   "cell_type": "markdown",
   "metadata": {},
   "source": [
    "Now, let's see how we can use diagonalization in an example."
   ]
  },
  {
   "cell_type": "markdown",
   "metadata": {},
   "source": [
    "### Getting the matrix back from eigenvalues and eigenvectors\n",
    "\n",
    "Let's say we want to get a matrix from a pre-determined set of eigenvalues and eigenvectors. These numbers and vectors could be obtained after an observation of a real-life problem. How do we get the matrix back?\n",
    "\n",
    "To do this, we can use the digaonalization concept. If we have eigenvalues and corresponding eigenvectors and if we know that the matrix can be diagonalizable, then all we do is constructing diagonal matrix $D$ whose diagonal entries are eigenvalues and matrix $S$ whose columns are  corresponding eigenvectors and use the relation\n",
    "\n",
    "$$AS=SD \\Rightarrow A=SDS^{-1}.$$"
   ]
  },
  {
   "cell_type": "markdown",
   "metadata": {},
   "source": [
    "### An Example: \n",
    "\n",
    "We know that eigenvalues are 1, 2 and corresponding eigenvectors are  $\\begin{bmatrix} 1\\\\-2\\end{bmatrix}$ and $\\begin{bmatrix} 1\\\\3\\end{bmatrix}$, respectively. Find matrix $A$."
   ]
  },
  {
   "cell_type": "code",
   "execution_count": 11,
   "metadata": {},
   "outputs": [
    {
     "data": {
      "text/plain": [
       "array([[1.4, 0.2],\n",
       "       [1.2, 1.6]])"
      ]
     },
     "execution_count": 11,
     "metadata": {},
     "output_type": "execute_result"
    }
   ],
   "source": [
    "#eigenvalues are 1, 2\n",
    "# So, we write them in a diagonal matrix\n",
    "D=np.array([[1,0],[0,2]])\n",
    "\n",
    "#Eigenvectors\n",
    "ev_1=np.array([1,-2])\n",
    "ev_2=np.array([1,3])\n",
    "\n",
    "#By using eigenvectors, construct S matrix\n",
    "S_tr=np.array([ev_1,ev_2])\n",
    "S=np.transpose(S_tr)\n",
    "\n",
    "#inverse of S to be used in the similarity relation\n",
    "Sinv=la.inv(S)\n",
    "\n",
    "#AS=SD implies A=SDS^-1\n",
    "A=np.dot(np.dot(S,D),Sinv)\n",
    "\n",
    "A\n"
   ]
  },
  {
   "cell_type": "markdown",
   "metadata": {},
   "source": [
    "### Application 1: Orthogonal projection onto a line\n",
    "\n",
    "Let $T:{\\mathbb R}^3\\to{\\mathbb R}^3$ be the orthogonal projection onto a line $L$ spanned by ${\\mathbf v}=\\begin{bmatrix}1\\\\-1\\\\1\\end{bmatrix}$. Let $A$ be the matrix of $T$. Find all eigenvalues and eigenvectors of $A$.\n",
    "\n",
    "Geometrically, since $T$ is an orthogonal projection onto line $L$, we know that vectors in the direction of $L$ (i.e., a multiple of ${\\mathbf v}$) stays the same and and vectors perpendicular to the line (i.e., in the orthogonal complement $L^{\\perp}$ of $L$) becomes ${\\mathbf 0}$. Recall that $L^{\\perp}$ of $L$ is the plane that has ${\\mathbf v}$ as its normal vector. Thus, one eigenvector will be ${\\mathbf v}$ while other eigenvectors are two linearly independent vectors on the plane with equation $x-y+z=0$."
   ]
  },
  {
   "cell_type": "markdown",
   "metadata": {},
   "source": [
    "First, we find the matrix of orthogonal projection by using $A=QQ^T$ where $Q$ is the orthogonal matrix $Q=\\begin{bmatrix} 1/\\sqrt{3}\\\\-1/\\sqrt{3}\\\\1/\\sqrt{3}\\end{bmatrix}$. Then the projection matrix is"
   ]
  },
  {
   "cell_type": "code",
   "execution_count": 12,
   "metadata": {},
   "outputs": [
    {
     "data": {
      "text/plain": [
       "array([[ 0.33333333, -0.33333333,  0.33333333],\n",
       "       [-0.33333333,  0.33333333, -0.33333333],\n",
       "       [ 0.33333333, -0.33333333,  0.33333333]])"
      ]
     },
     "execution_count": 12,
     "metadata": {},
     "output_type": "execute_result"
    }
   ],
   "source": [
    "Q=np.array([[1/np.sqrt(3)],[-1/np.sqrt(3)],[1/np.sqrt(3)]])\n",
    "\n",
    "Q_T=np.transpose(Q)\n",
    "\n",
    "proj_matrix=np.dot(Q,Q_T)\n",
    "\n",
    "proj_matrix"
   ]
  },
  {
   "cell_type": "markdown",
   "metadata": {},
   "source": [
    "Eigenvalues of the projection matrix should be $1,0,0$."
   ]
  },
  {
   "cell_type": "code",
   "execution_count": 13,
   "metadata": {},
   "outputs": [
    {
     "data": {
      "text/plain": [
       "array([ 1.00000000e+00+0.j,  1.23259516e-32+0.j, -1.87740910e-17+0.j])"
      ]
     },
     "execution_count": 13,
     "metadata": {},
     "output_type": "execute_result"
    }
   ],
   "source": [
    "la.eigvals(proj_matrix)"
   ]
  },
  {
   "cell_type": "markdown",
   "metadata": {},
   "source": [
    "Corresponding eigenvectors are collected in the matrix $S=[v_1,v_2,v_3]$, as below."
   ]
  },
  {
   "cell_type": "code",
   "execution_count": 14,
   "metadata": {},
   "outputs": [
    {
     "data": {
      "text/plain": [
       "array([[ 5.77350269e-01,  4.19177419e-16, -7.95042796e-01],\n",
       "       [-5.77350269e-01,  7.07106781e-01, -2.36492784e-01],\n",
       "       [ 5.77350269e-01,  7.07106781e-01,  5.58550012e-01]])"
      ]
     },
     "execution_count": 14,
     "metadata": {},
     "output_type": "execute_result"
    }
   ],
   "source": [
    "la.eig(proj_matrix)[1]"
   ]
  },
  {
   "cell_type": "markdown",
   "metadata": {},
   "source": [
    "Notice that the first column, $\\begin{bmatrix}0.57735027\\\\ -0.57735027\\\\  0.57735027\\end{bmatrix}$, is just a normalized version of vector ${\\mathbf v}=\\begin{bmatrix}1\\\\-1\\\\1\\end{bmatrix}$. It is easy to check that second and third eigenvectors satisfy the plane equation $x-y+z=0$."
   ]
  },
  {
   "cell_type": "markdown",
   "metadata": {},
   "source": [
    "### Application 2: Eigenvalues, eigenvectors of a reflection matrix\n",
    "\n",
    "Consider a line $L$ in ${\\mathbb R}^3$ that is spanned by the unit vector ${\\mathbf u}=\\begin{bmatrix}u_1 \\\\u_2\\\\u_2\\end{bmatrix}$ with $u_1^2+u_2^2+u_3^2=1$. Then the reflection of a vector ${\\mathbf x}$ about $L$ can be found by using the formula \n",
    "$$ref_L({\\mathbf x})=2({\\mathbf x}\\cdot{\\mathbf u}){\\mathbf u}-{\\mathbf x}.$$ \n",
    "\n",
    "This gives us the matrix of reflection as\n",
    "$$A=\\begin{bmatrix}\n",
    "2u_1^2-1 & 2u_1u_2 & 2u_1u_3\\\\\n",
    "2u_1u_2 & 2u_2^2-1 & 2u_2u_3 \\\\\n",
    "2u_1u_3 & 2u_2u_3 & 2u_3^2-1 \\\\\n",
    "\\end{bmatrix}.$$\n",
    "\n",
    "\n",
    "#### Example 1:\n",
    "\n",
    "Let $L$ be the line spanned by the vector ${\\mathbf v}=\\begin{bmatrix}2 \\\\ 1\\\\-2\\end{bmatrix}$. Find all eigenvalues and eigenvectors for the matrix representing reflection about the line $L$.\n",
    "\n",
    "Geometrically, we know that the eigenvalues are $\\lambda_1=1$,$\\lambda_2=-1$ (with multiplicity 2). This is because we know that reflection about the line does not change vectors on the line $L$, so first eigenvalue is $\\lambda_1=1$ with the corresponding eigenvector ${\\mathbf u}=\\dfrac{1}{\\|{\\mathbf v}\\|}{\\mathbf v}$. \n",
    "\n",
    "The other two eigenvalues are $-1$ corresponding to eigenvectors perpendicular to the line $L$. This subspace is the orthogonal complement $L^{\\perp}$ of $L$. In ${\\mathbb R}^3$, $L^{\\perp}$ is the plane with normal vector ${\\mathbf u}$. From this, we could find a basis for the plane and find two linearly independent eigenvectors corresponding to eigenvalue $-1$."
   ]
  },
  {
   "cell_type": "code",
   "execution_count": 15,
   "metadata": {},
   "outputs": [
    {
     "data": {
      "text/plain": [
       "array([[-0.11111111,  0.44444444, -0.88888889],\n",
       "       [ 0.44444444, -0.77777778, -0.44444444],\n",
       "       [-0.88888889, -0.44444444, -0.11111111]])"
      ]
     },
     "execution_count": 15,
     "metadata": {},
     "output_type": "execute_result"
    }
   ],
   "source": [
    "v=np.array([2,1,-2])\n",
    "\n",
    "def reflection_L(v):\n",
    "    comp_sq_sum=0\n",
    "    for i in range(0,len(v)):        \n",
    "        comp_sq_sum+=v[i]**2\n",
    "        length=np.sqrt(comp_sq_sum)\n",
    "    u=v*(1/length)\n",
    "    first_row=[2*u[0]**2-1,2*u[0]*u[1],2*u[0]*u[2]]\n",
    "    second_row=[2*u[0]*u[1],2*u[1]**2-1,2*u[1]*u[2]]\n",
    "    third_row=[2*u[0]*u[2],2*u[1]*u[2],2*u[2]**2-1]\n",
    "    matrix=np.array([first_row,second_row,third_row])\n",
    "    return matrix\n",
    "\n",
    "reflection_L(v)\n"
   ]
  },
  {
   "cell_type": "markdown",
   "metadata": {},
   "source": [
    "Let's find eigenvalues and corresponding eigenvectors of this matrix."
   ]
  },
  {
   "cell_type": "code",
   "execution_count": 16,
   "metadata": {},
   "outputs": [
    {
     "data": {
      "text/plain": [
       "array([-1.+0.j,  1.+0.j, -1.+0.j])"
      ]
     },
     "execution_count": 16,
     "metadata": {},
     "output_type": "execute_result"
    }
   ],
   "source": [
    "la.eigvals(reflection_L(v))"
   ]
  },
  {
   "cell_type": "code",
   "execution_count": 17,
   "metadata": {},
   "outputs": [
    {
     "data": {
      "text/plain": [
       "(array([-1.+0.j,  1.+0.j, -1.+0.j]),\n",
       " array([[-0.74535599,  0.66666667, -0.21902862],\n",
       "        [ 0.2981424 ,  0.33333333,  0.94254894],\n",
       "        [-0.59628479, -0.66666667,  0.25224584]]))"
      ]
     },
     "execution_count": 17,
     "metadata": {},
     "output_type": "execute_result"
    }
   ],
   "source": [
    "la.eig(reflection_L(v))"
   ]
  },
  {
   "cell_type": "markdown",
   "metadata": {},
   "source": [
    "#### Example 2:\n",
    "\n",
    "This definition works for only $3\\times3$ matrices. Even though this code is neat, notice similarities in defining first_row, second_row and third_row above. This is a good indication that we can write a better code by using some if-then statements. \n",
    "\n",
    "Notice what is happening here. Entries on the main diagonal have a form $2u^2-1$ while all others are like $2uv$ depending on the location of the entry. Therefore, to generalize this, we will be using two for statements; one for statement for creating each row and another for statement for iteration through an individual row. When we are iterating through each row, we will use an if-then statement to create entries depending on their location. Then we collect all these indiviual rows in the list 'rows' and by using that list we will create the matrix. \n",
    "\n",
    "The advantage of this way is that we can write any $n\\times n$ matrix representing a reflection about a line $L$ in ${\\mathbb R}^n$."
   ]
  },
  {
   "cell_type": "code",
   "execution_count": 18,
   "metadata": {},
   "outputs": [
    {
     "data": {
      "text/plain": [
       "array([[-0.11111111,  0.44444444, -0.88888889],\n",
       "       [ 0.44444444, -0.77777778, -0.44444444],\n",
       "       [-0.88888889, -0.44444444, -0.11111111]])"
      ]
     },
     "execution_count": 18,
     "metadata": {},
     "output_type": "execute_result"
    }
   ],
   "source": [
    "w=np.array([2,1,-2])\n",
    "\n",
    "def reflection_L_n(v):\n",
    "    comp_sq_sum=0\n",
    "    for i in range(0,len(v)):        \n",
    "        comp_sq_sum+=v[i]**2\n",
    "        length=np.sqrt(comp_sq_sum)\n",
    "    u=v*(1/length)\n",
    "    rows=[]\n",
    "    for i in range(0,len(v)):\n",
    "        row_list=[]\n",
    "        for j in range(0,len(v)):\n",
    "            if i==j:\n",
    "                entry=2*u[i]**2-1\n",
    "                row_list.append(entry)\n",
    "            else:\n",
    "                entry=2*u[i]*u[j]\n",
    "                row_list.append(entry)\n",
    "        rows.append(row_list)\n",
    "    matrix=np.array(rows)\n",
    "    return matrix\n",
    "\n",
    "reflection_L_n(w)\n"
   ]
  },
  {
   "cell_type": "markdown",
   "metadata": {},
   "source": [
    "#### An interesting problem: \n",
    "\n",
    "Let's look at the eigenvalues of some reflection matrices up to dimension 5. "
   ]
  },
  {
   "cell_type": "code",
   "execution_count": 19,
   "metadata": {},
   "outputs": [
    {
     "name": "stdout",
     "output_type": "stream",
     "text": [
      "[-1.+0.j  1.+0.j]\n",
      "[-1.+0.j  1.+0.j -1.+0.j]\n",
      "[ 1.+0.j -1.+0.j -1.+0.j -1.+0.j]\n",
      "[-1.+0.j  1.+0.j -1.+0.j -1.+0.j -1.+0.j]\n"
     ]
    }
   ],
   "source": [
    "v_2=np.array([1,2])\n",
    "v_3=np.array([1,-1,3])\n",
    "v_4=np.array([1,0,-3,2])\n",
    "v_5=np.array([2,-2,0,-4,1])\n",
    "\n",
    "vector_list=[v_2,v_3,v_4,v_5]\n",
    "\n",
    "for vector in vector_list:\n",
    "    print(la.eigvals(reflection_L_n(vector)))\n"
   ]
  },
  {
   "cell_type": "markdown",
   "metadata": {},
   "source": [
    "We observe that for each dimension $n$, we have two eigenvalues $1$ and $-1$. Algebraic multiplicity of eigenvalue $1$ is $1$ while eigenvalue $-1$ has algebraic multiplicity $n-1$. \n",
    "\n",
    "**Problem:** Let $A$ be an $n\\times n$ matrix with eigenvalues $1,-1$ where their algebraic multiplicities are $1$ and $n-1$, respectively. Is it always true that $A$ represents a reflection about a line in ${\\mathbb R}^n$? \n",
    "\n",
    "This problem may be proved somewhere or it might be an open problem. "
   ]
  },
  {
   "cell_type": "markdown",
   "metadata": {},
   "source": [
    "### Application 3: Network graphs (Optional)\n",
    "\n",
    "As our third application, let's talk about graphs. A graph is a collection of vertices(i.e., nodes) and edges between these vertices. \n",
    "\n",
    "An adjency matrix for each graph can be obtained as follows: If there is an edge between vertices $v_i$ and $v_j$ then the $ij-$th and $ji-$th entries of the adjecency matrix is $1$. Otherwise, it will be zero. \n",
    "\n",
    "In this part, I will introduce a new package networkx for working with networks. This package can be used in many applications, for example you can conduct a social network analysis by using this. In these cases, any vertex can have many attributes (stored in the python nodes) but we will only consider a simple example below for the sake of brevity."
   ]
  },
  {
   "cell_type": "code",
   "execution_count": 20,
   "metadata": {},
   "outputs": [],
   "source": [
    "import networkx as nx"
   ]
  },
  {
   "cell_type": "code",
   "execution_count": 22,
   "metadata": {},
   "outputs": [
    {
     "data": {
      "image/png": "[encoded data removed]",
      "text/plain": [
       "<Figure size 432x288 with 1 Axes>"
      ]
     },
     "metadata": {},
     "output_type": "display_data"
    }
   ],
   "source": [
    "#use G=nx.Graph() for undirected graph\n",
    "G_1=nx.Graph()\n",
    "G_1.add_nodes_from([1,2,3])\n",
    "G_1.add_edges_from([(1,2),(1,3),(2,3),(2,1)])\n",
    "\n",
    "nx.draw(G_1)"
   ]
  },
  {
   "cell_type": "markdown",
   "metadata": {},
   "source": [
    "Notice that this creates a plot with three vertices and even though we defined an edge between (1,2) and (2,1), there is only one edge between them on the plot. Let's get its adjacency matrix."
   ]
  },
  {
   "cell_type": "code",
   "execution_count": 23,
   "metadata": {},
   "outputs": [
    {
     "data": {
      "text/plain": [
       "array([[0, 1, 1],\n",
       "       [1, 0, 1],\n",
       "       [1, 1, 0]], dtype=int32)"
      ]
     },
     "execution_count": 23,
     "metadata": {},
     "output_type": "execute_result"
    }
   ],
   "source": [
    "#get adjacency matrix\n",
    "A_1=nx.adjacency_matrix(G_1)\n",
    "\n",
    "#A_matrix in np.array type\n",
    "A_1.A"
   ]
  },
  {
   "cell_type": "markdown",
   "metadata": {},
   "source": [
    "All entries in this adjacency matrix are ones because we didn't define weights between edges. Each edge can carry a different weight. This is recorded in the corresponding adjacency matrix, as well. Note that, to get the matrix with the correct weights, we have to use nx.DiGraph() below. If we use nx.Graph(), it will give us a symmetric matrix instead."
   ]
  },
  {
   "cell_type": "code",
   "execution_count": 26,
   "metadata": {},
   "outputs": [
    {
     "data": {
      "image/png": "[encoded data removed]",
      "text/plain": [
       "<Figure size 432x288 with 1 Axes>"
      ]
     },
     "metadata": {},
     "output_type": "display_data"
    }
   ],
   "source": [
    "G_2=nx.DiGraph()\n",
    "G_2.add_nodes_from([1,2,3])\n",
    "G_2.add_weighted_edges_from([(1,2,0.32),(1,3,0.24),(2,3,0.32),(2,1,0.4),(3,1,0.65)])\n",
    "\n",
    "nx.draw(G_2)"
   ]
  },
  {
   "cell_type": "code",
   "execution_count": 27,
   "metadata": {},
   "outputs": [
    {
     "data": {
      "text/plain": [
       "array([[0.  , 0.32, 0.24],\n",
       "       [0.4 , 0.  , 0.32],\n",
       "       [0.65, 0.  , 0.  ]])"
      ]
     },
     "execution_count": 27,
     "metadata": {},
     "output_type": "execute_result"
    }
   ],
   "source": [
    "#get adjacency matrix\n",
    "A_2=nx.adjacency_matrix(G_2)\n",
    "\n",
    "#A_matrix in np.array type\n",
    "A_2.A"
   ]
  },
  {
   "cell_type": "markdown",
   "metadata": {},
   "source": [
    "Let's find eigenvalues and eigenvectors of G_2. This means, we will find eigenvalues and eigenvectors of the corresponding adjacency matrix A_2."
   ]
  },
  {
   "cell_type": "code",
   "execution_count": 28,
   "metadata": {},
   "outputs": [
    {
     "data": {
      "text/plain": [
       "(array([ 0.62490918+0.j       , -0.31245459+0.0942529j,\n",
       "        -0.31245459-0.0942529j]),\n",
       " array([[-0.53782061+0.j        , -0.40102365+0.12097003j,\n",
       "         -0.40102365-0.12097003j],\n",
       "        [-0.63071718+0.j        , -0.26975062-0.23623526j,\n",
       "         -0.26975062+0.23623526j],\n",
       "        [-0.55941472+0.j        ,  0.83425043+0.j        ,\n",
       "          0.83425043-0.j        ]]))"
      ]
     },
     "execution_count": 28,
     "metadata": {},
     "output_type": "execute_result"
    }
   ],
   "source": [
    "la.eig(A_2.A)"
   ]
  },
  {
   "cell_type": "markdown",
   "metadata": {},
   "source": [
    "Let's complete this tutorial by collecting all these info in a function. Here, input is the graph and output is a list of eigenvalue-eigenvector pairs."
   ]
  },
  {
   "cell_type": "code",
   "execution_count": 29,
   "metadata": {},
   "outputs": [],
   "source": [
    "def eigenpairs_graph(G):\n",
    "    A_sparse=nx.adjacency_matrix(G)  #sparse matrix, we have to turn it into numpy array\n",
    "    A=A_sparse.A\n",
    "    lst=[]\n",
    "    size=len(A)\n",
    "    first=la.eig(A)[0]\n",
    "    second=la.eig(A)[1]\n",
    "    for i in range(0,size):\n",
    "        eigenvalue=first[i]\n",
    "        eigenvector=np.transpose(second)[i]\n",
    "        lst.append((eigenvalue,eigenvector))\n",
    "    return lst\n"
   ]
  },
  {
   "cell_type": "code",
   "execution_count": 30,
   "metadata": {},
   "outputs": [
    {
     "data": {
      "text/plain": [
       "[((0.6249091758793016+0j),\n",
       "  array([-0.53782061+0.j, -0.63071718+0.j, -0.55941472+0.j])),\n",
       " ((-0.3124545879396507+0.09425289689771377j),\n",
       "  array([-0.40102365+0.12097003j, -0.26975062-0.23623526j,\n",
       "          0.83425043+0.j        ])),\n",
       " ((-0.3124545879396507-0.09425289689771377j),\n",
       "  array([-0.40102365-0.12097003j, -0.26975062+0.23623526j,\n",
       "          0.83425043-0.j        ]))]"
      ]
     },
     "execution_count": 30,
     "metadata": {},
     "output_type": "execute_result"
    }
   ],
   "source": [
    "eigenpairs_graph(G_2)"
   ]
  },
  {
   "cell_type": "code",
   "execution_count": null,
   "metadata": {},
   "outputs": [],
   "source": []
  }
 ],
 "metadata": {
  "kernelspec": {
   "display_name": "Python 3",
   "language": "python",
   "name": "python3"
  },
  "language_info": {
   "codemirror_mode": {
    "name": "ipython",
    "version": 3
   },
   "file_extension": ".py",
   "mimetype": "text/x-python",
   "name": "python",
   "nbconvert_exporter": "python",
   "pygments_lexer": "ipython3",
   "version": "3.7.3"
  }
 },
 "nbformat": 4,
 "nbformat_minor": 2
}

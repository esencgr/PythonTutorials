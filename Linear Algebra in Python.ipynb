{
 "cells": [
  {
   "cell_type": "markdown",
   "metadata": {},
   "source": [
    "# Introduction of the Linear Algebra Package in Python\n",
    "\n",
    "In this tutorial, I will introduce two packages, numpy and scipy (in particular scipy.linalg), that could be useful for scientific and numerical computations. The link for the scipy documentation is https://docs.scipy.org/doc/scipy-1.4.1/reference/ and you could find some scipy lecture notes at http://scipy-lectures.org/. As for the numpy package, you may take a look at https://numpy.org/.\n",
    "\n",
    "The scipy package has many submodules covering a lot of topics such as integration, optimization, statistics and linear algebra. In this tutorial, we will focus only on linear algebra submodule scipy.linalg. In addition, we will be using some features of numpy package since that is how we will be representing matrices. \n",
    "\n",
    "I will give some quick intro covering some of the tools that we use in scipy.linalg and numpy so that this tutorial is self-contained. For more information on scipy.linalg, please visit https://docs.scipy.org/doc/scipy/reference/linalg.html\n",
    "\n",
    "As an example of how we could use Python, we will be covering coordinate vector $[x]_{\\mathfrak B}$ of a given vector $x$ with respect to a given basis ${\\mathfrak B}$. In addition, a definition for the ${\\mathfrak B}$-matrix of a given linear transformation $T$ will also be covered.\n",
    "\n",
    "If you ever need to install these packages on your computer, you could use the following codes:\n",
    "\n",
    "!{sys.executable} -m pip install numpy\n",
    "\n",
    "!{sys.executable} -m pip install scipy"
   ]
  },
  {
   "cell_type": "code",
   "execution_count": 1,
   "metadata": {},
   "outputs": [
    {
     "name": "stdout",
     "output_type": "stream",
     "text": [
      "[[1 1]\n",
      " [2 3]]\n",
      "<class 'numpy.ndarray'>\n"
     ]
    }
   ],
   "source": [
    "import numpy as np\n",
    "import scipy.linalg as la\n",
    "\n",
    "#We first define 2x2 matrices A and B. Here, note that [1,1] is the first row while [2,3] is the second row of matrix A.\n",
    "A=np.array([[1,1],[2,3]])\n",
    "B=np.array([[-2,1],[3,-1]])\n",
    "\n",
    "#In a similar way, we could define vectors v and w:\n",
    "v=[5,10]\n",
    "w=[-2,4]\n",
    "\n",
    "print(A)\n",
    "print(type(A))\n"
   ]
  },
  {
   "cell_type": "code",
   "execution_count": 2,
   "metadata": {},
   "outputs": [
    {
     "name": "stdout",
     "output_type": "stream",
     "text": [
      "[[1 1]\n",
      " [2 3]]\n",
      "Type of A1 is <class 'numpy.matrix'>\n"
     ]
    }
   ],
   "source": [
    "#Alternatively, we could define matrices as\n",
    "A1=np.matrix([[1,1],[2,3]])\n",
    "\n",
    "print(A1)\n",
    "print('Type of A1 is {}'.format(type(A1)))"
   ]
  },
  {
   "cell_type": "code",
   "execution_count": 3,
   "metadata": {},
   "outputs": [
    {
     "data": {
      "text/plain": [
       "30"
      ]
     },
     "execution_count": 3,
     "metadata": {},
     "output_type": "execute_result"
    }
   ],
   "source": [
    "#We can use np.dot() for dot product of vectors:\n",
    "np.dot(v,w)"
   ]
  },
  {
   "cell_type": "code",
   "execution_count": 4,
   "metadata": {},
   "outputs": [
    {
     "name": "stdout",
     "output_type": "stream",
     "text": [
      "[15 40]\n",
      "-------------\n",
      "[[ 1  0]\n",
      " [ 5 -1]]\n"
     ]
    }
   ],
   "source": [
    "# We can also use np.dot() for matrix-matrix multiplication and matrix-vector multiplication:\n",
    "\n",
    "print(np.dot(A,v))\n",
    "print('-------------')\n",
    "print(np.dot(A,B))\n"
   ]
  },
  {
   "cell_type": "markdown",
   "metadata": {},
   "source": [
    "Let's see what we can do with the linalg submodule:"
   ]
  },
  {
   "cell_type": "code",
   "execution_count": 5,
   "metadata": {},
   "outputs": [
    {
     "data": {
      "text/plain": [
       "array([[ 3., -1.],\n",
       "       [-2.,  1.]])"
      ]
     },
     "execution_count": 5,
     "metadata": {},
     "output_type": "execute_result"
    }
   ],
   "source": [
    "#We can compute inverses:\n",
    "la.inv(A)"
   ]
  },
  {
   "cell_type": "code",
   "execution_count": 6,
   "metadata": {},
   "outputs": [
    {
     "data": {
      "text/plain": [
       "array([-10.,   8.])"
      ]
     },
     "execution_count": 6,
     "metadata": {},
     "output_type": "execute_result"
    }
   ],
   "source": [
    "#We can use it to solve systems of equations given as Ax=w:\n",
    "la.solve(A,w)"
   ]
  },
  {
   "cell_type": "markdown",
   "metadata": {},
   "source": [
    "## Example 1: Finding the coordinate vector of a given vector\n",
    "\n",
    "In this example, we would like to find coordinate vector $[x]_{\\mathfrak B}$ of a given vector $x$ with respect to a basis ${\\mathfrak B}$ containing vectors $v_1,v_2$ and $v_3$ as defined below."
   ]
  },
  {
   "cell_type": "code",
   "execution_count": 7,
   "metadata": {},
   "outputs": [
    {
     "data": {
      "text/plain": [
       "array([ 4,  2, -1])"
      ]
     },
     "execution_count": 7,
     "metadata": {},
     "output_type": "execute_result"
    }
   ],
   "source": [
    "#First, let's define vectors in the bases B={v_1,v_2,v_3}:\n",
    "v_1=np.array([1,2,3])\n",
    "v_2=np.array([1,-1,4])\n",
    "v_3=np.array([1,0,2])\n",
    "\n",
    "#and the vector x:\n",
    "x=np.array([4,2,-1])\n",
    "\n",
    "x"
   ]
  },
  {
   "cell_type": "markdown",
   "metadata": {},
   "source": [
    "To find the coordinate vector, we first have to write $x$ as a linear combination of $v_1,v_2$ and $v_3$ as\n",
    "\n",
    "$x=c_1v_1+c_2v_2+c_2v_3$\n",
    "\n",
    "This means that, we will be solving the system $Ac=x$ where $A$ is the matrix with columns $v_1,v_2$ and $v_3$. So, we need to write $A$ first."
   ]
  },
  {
   "cell_type": "code",
   "execution_count": 8,
   "metadata": {},
   "outputs": [
    {
     "data": {
      "text/plain": [
       "array([[ 1,  2,  3],\n",
       "       [ 1, -1,  4],\n",
       "       [ 1,  0,  2]])"
      ]
     },
     "execution_count": 8,
     "metadata": {},
     "output_type": "execute_result"
    }
   ],
   "source": [
    "A1=np.array([v_1,v_2,v_3])\n",
    "\n",
    "A1"
   ]
  },
  {
   "cell_type": "markdown",
   "metadata": {},
   "source": [
    "Notice that if we write in this way, we will create a matrix with rows $v_1, v_2$ and $v_3$ instead of columns. To fix this, we will need to switch roles of rows and columns. We can do that by taking the $\\it transpose$ of matrix A."
   ]
  },
  {
   "cell_type": "code",
   "execution_count": 9,
   "metadata": {},
   "outputs": [
    {
     "data": {
      "text/plain": [
       "array([[ 1,  1,  1],\n",
       "       [ 2, -1,  0],\n",
       "       [ 3,  4,  2]])"
      ]
     },
     "execution_count": 9,
     "metadata": {},
     "output_type": "execute_result"
    }
   ],
   "source": [
    "A=np.transpose(A1)\n",
    "\n",
    "A"
   ]
  },
  {
   "cell_type": "markdown",
   "metadata": {},
   "source": [
    "Now, we can solve the system $Ac=x$ by using la.solve()."
   ]
  },
  {
   "cell_type": "code",
   "execution_count": 10,
   "metadata": {},
   "outputs": [
    {
     "data": {
      "text/plain": [
       "array([-1., -4.,  9.])"
      ]
     },
     "execution_count": 10,
     "metadata": {},
     "output_type": "execute_result"
    }
   ],
   "source": [
    "la.solve(A,x)"
   ]
  },
  {
   "cell_type": "markdown",
   "metadata": {},
   "source": [
    "This is in fact our coordinate vector since it encodes coefficients of $v_1, v_2$ and $v_3$ in the linear combination. Let's check our work:"
   ]
  },
  {
   "cell_type": "code",
   "execution_count": 11,
   "metadata": {},
   "outputs": [
    {
     "data": {
      "text/plain": [
       "(array([ 4,  2, -1]), array([ 4,  2, -1]))"
      ]
     },
     "execution_count": 11,
     "metadata": {},
     "output_type": "execute_result"
    }
   ],
   "source": [
    "linear_combination=(-1)*v_1+(-4)*v_2+(9)*v_3\n",
    "\n",
    "linear_combination, x"
   ]
  },
  {
   "cell_type": "code",
   "execution_count": 12,
   "metadata": {},
   "outputs": [
    {
     "data": {
      "text/plain": [
       "array([ True,  True,  True])"
      ]
     },
     "execution_count": 12,
     "metadata": {},
     "output_type": "execute_result"
    }
   ],
   "source": [
    "#We could also use a truth statement for this:\n",
    "\n",
    "linear_combination==x"
   ]
  },
  {
   "cell_type": "markdown",
   "metadata": {},
   "source": [
    "## Define a function\n",
    "\n",
    "Now, we know how to find the coordinate vector of a given vector with respect to any given basis. Let's collect all our work and write a function finding coordinates for any given basis. "
   ]
  },
  {
   "cell_type": "code",
   "execution_count": 13,
   "metadata": {},
   "outputs": [],
   "source": [
    "def coordinate_vector(basis,x):\n",
    "    A0=np.array(basis)\n",
    "    A=np.transpose(A0)\n",
    "    return la.solve(A,x)"
   ]
  },
  {
   "cell_type": "markdown",
   "metadata": {},
   "source": [
    "We should check if this definition is working well by using the example that we did above:"
   ]
  },
  {
   "cell_type": "code",
   "execution_count": 14,
   "metadata": {},
   "outputs": [
    {
     "data": {
      "text/plain": [
       "array([-1., -4.,  9.])"
      ]
     },
     "execution_count": 14,
     "metadata": {},
     "output_type": "execute_result"
    }
   ],
   "source": [
    "B=[v_1,v_2,v_3]\n",
    "coordinate_vector(B,x)"
   ]
  },
  {
   "cell_type": "markdown",
   "metadata": {},
   "source": [
    "This is the same vector as before. So, the definition is working well. \n",
    "\n",
    "Alternatively, we could create another function to check our work. We first #define the coordinate vector, then set the initial linear combination to 0 so that we could use it later. Note that we should be adding terms one by one as follows since the basis list might change from problem to problem. "
   ]
  },
  {
   "cell_type": "code",
   "execution_count": 15,
   "metadata": {},
   "outputs": [
    {
     "name": "stdout",
     "output_type": "stream",
     "text": [
      "Linear combination result is [ 4.  2. -1.] while the original vector x is [ 4  2 -1].\n"
     ]
    }
   ],
   "source": [
    "def check_coordinate_function(basis,x):\n",
    "    coor=coordinate_vector(basis,x)       \n",
    "    lin_combination=0                   \n",
    "    for i in range(0,len(basis)):         \n",
    "        lin_combination +=coor[i]*basis[i] \n",
    "    return print('Linear combination result is {} while the original vector x is {}.'.format(lin_combination,x))\n",
    "    \n",
    "check_coordinate_function(B,x)\n",
    "    "
   ]
  },
  {
   "cell_type": "markdown",
   "metadata": {},
   "source": [
    "## Example 2\n",
    "\n",
    "Let's solve another problem with more basis vectors and see how simple it becomes when we use the definitions above."
   ]
  },
  {
   "cell_type": "code",
   "execution_count": 16,
   "metadata": {},
   "outputs": [
    {
     "data": {
      "text/plain": [
       "[array([1, 2, 3, 4, 5]),\n",
       " array([ 1, -1,  4,  2,  2]),\n",
       " array([1, 0, 2, 2, 2]),\n",
       " array([ 1,  0,  1, -1,  2]),\n",
       " array([1, 0, 2, 0, 0])]"
      ]
     },
     "execution_count": 16,
     "metadata": {},
     "output_type": "execute_result"
    }
   ],
   "source": [
    "v_1=np.array([1,2,3,4,5])\n",
    "v_2=np.array([1,-1,4,2,2])\n",
    "v_3=np.array([1,0,2,2,2])\n",
    "v_4=np.array([1,0,1,-1,2])\n",
    "v_5=np.array([1,0,2,0,0])\n",
    "\n",
    "#and the vector x:\n",
    "x_2=np.array([4,2,-1,1,1])\n",
    "\n",
    "B_2=[v_1,v_2,v_3,v_4,v_5]\n",
    "\n",
    "B_2"
   ]
  },
  {
   "cell_type": "code",
   "execution_count": 17,
   "metadata": {},
   "outputs": [
    {
     "data": {
      "text/plain": [
       "array([-0.9375 , -3.875  ,  6.40625,  0.3125 ,  2.09375])"
      ]
     },
     "execution_count": 17,
     "metadata": {},
     "output_type": "execute_result"
    }
   ],
   "source": [
    "coordinate_vector(B_2,x_2)"
   ]
  },
  {
   "cell_type": "code",
   "execution_count": 18,
   "metadata": {},
   "outputs": [
    {
     "name": "stdout",
     "output_type": "stream",
     "text": [
      "Linear combination result is [ 4.  2. -1.  1.  1.] while the original vector x is [ 4  2 -1  1  1].\n"
     ]
    }
   ],
   "source": [
    "check_coordinate_function(B_2,x_2)"
   ]
  },
  {
   "cell_type": "markdown",
   "metadata": {},
   "source": [
    "## $\\mathfrak B$-matrix of a linear transformation\n",
    "\n",
    "Now, let's see how we could write the matrix of a given linear transformation with respect to a given basis $\\mathfrak B=\\{v_1,v_2,\\ldots,v_n\\}$. \n",
    "\n",
    "Recall that a transformation $T:{\\mathbb R}^n\\to{\\mathbb R}^n$ is called a linear transformation if there is an $n\\times n$ matrix $A$ such that $T(x)=Ax$ for any vector $x$ in ${\\mathbb R}^n$. \n",
    "\n",
    "The $\\mathfrak B$-matrix of $T$ is the matrix $B$ that takes coordinate vector $[x]_{\\mathfrak B}$ to $[T(x)]_{\\mathfrak B}$. That is, $[T(x)]_{\\mathfrak B}=B[x]_{\\mathfrak B}$ for all $x$ in ${\\mathbb R}^n$. \n",
    "\n",
    "Let $S$ be the matrix whose columns are the basis vectors in $\\mathfrak B$. Thus, we have $x=S[x]_{\\mathfrak B}$. In class, we showed that $B=S^{-1}AS$. This is the easiest and shortest way of writing a code for the ${\\mathfrak B}$ matrix of $T$, as given below.\n"
   ]
  },
  {
   "cell_type": "code",
   "execution_count": 19,
   "metadata": {},
   "outputs": [],
   "source": [
    "def B_matrix(basis, A):\n",
    "    B0=np.array(basis)\n",
    "    S=np.transpose(B0)\n",
    "    S_inv=la.inv(S)\n",
    "    mid=np.dot(A,S)\n",
    "    B=np.dot(S_inv,mid)\n",
    "    return B"
   ]
  },
  {
   "cell_type": "markdown",
   "metadata": {},
   "source": [
    "### Example\n",
    "\n",
    "Consider the linear transformation $T:{\\mathbb R}^n\\to {\\mathbb R}^n$ such that\n",
    "$T(x)=Ax$ where A=$\\begin{bmatrix}4 & 1\\\\3 & 2\\end{bmatrix}$ and \n",
    "${\\mathfrak B}=\\{\\begin{bmatrix}-3\\\\ 2\\end{bmatrix},\\begin{bmatrix}2\\\\-1\\end{bmatrix}\\}$ is the given basis. Find the ${\\mathfrak B}$-matrix of the linear transformation $T$."
   ]
  },
  {
   "cell_type": "code",
   "execution_count": 20,
   "metadata": {},
   "outputs": [
    {
     "data": {
      "text/plain": [
       "array([[-20.,  15.],\n",
       "       [-35.,  26.]])"
      ]
     },
     "execution_count": 20,
     "metadata": {},
     "output_type": "execute_result"
    }
   ],
   "source": [
    "B=(np.array([-3,2]),np.array([2,-1])) #basis\n",
    "A=np.array([[4,1],[3,2]]) #matrix A\n",
    "\n",
    "B_matrix(B,A)"
   ]
  },
  {
   "cell_type": "markdown",
   "metadata": {},
   "source": [
    "As the quarter progress, we will explore more topics such as determinants, orthogonalization and eigenvalue-eigenvectors. "
   ]
  }
 ],
 "metadata": {
  "kernelspec": {
   "display_name": "Python 3",
   "language": "python",
   "name": "python3"
  },
  "language_info": {
   "codemirror_mode": {
    "name": "ipython",
    "version": 3
   },
   "file_extension": ".py",
   "mimetype": "text/x-python",
   "name": "python",
   "nbconvert_exporter": "python",
   "pygments_lexer": "ipython3",
   "version": "3.7.3"
  }
 },
 "nbformat": 4,
 "nbformat_minor": 2
}

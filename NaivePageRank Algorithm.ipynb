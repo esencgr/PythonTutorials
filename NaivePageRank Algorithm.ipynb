{
 "cells": [
  {
   "cell_type": "markdown",
   "metadata": {},
   "source": [
    "## Naive PageRank Algorithm \n",
    "\n",
    "In this tutorial, we will be going over a simple version of the PageRank algorithm that is invented by Google cofounders S. Brin and L. Page. In their paper published in 1998, they introduced a more complicated algorithm for their search engine Google similar to this.\n",
    "\n",
    "We will follow the guidelines listed in Example 9 in section 2.1 of  Bretscher's fifth edition Linear Algenbra with Applications texbook.  On a side note, this problem has some similarities to the input-output economic model introduced in Exercise 24 in Section 1.1 of Bretscher. \n",
    "\n",
    "Assume that we have 3 webpages, pages a, b and c. \n",
    "<ul>\n",
    "<li> Initially, proportion of people visiting web pages a, b and c are $x_1, x_2$, and $x_3$, respectively. </li>\n",
    "<li> These proportions will add up to 1, i.e., $x_1+x_2+x_3=1$.</li>\n",
    "<li> On each page there are links to other webpages, as follows: </li>\n",
    "<ul>\n",
    "<li> On page a, there are links to webpages b and c; </li>\n",
    "<li> on webpage b, there are links to webpages a and c, and </li>\n",
    "<li> on webpage c, there is only one link to webpage a. </li>\n",
    "</ul>\n",
    "Since there are multiple values for some webpages, using a dictionary is a good idea for this. So, we create the dictionary \n",
    "\n",
    "links={'a':{'b','c'},'b':{'a','c'},'c':{'a'}}    \n",
    "        \n",
    "<li> At a predetermined time, we assume that all visitors randomly follow a link on the webpage that they are currently visiting.</li>\n",
    "<li> We assume that proportion of people following different links(if any) on a given webpage is equal. </li>\n",
    "<li> We want to know what the distribution looks like after one step, multiple steps and in the long run.</li>\n",
    "</ul>\n",
    "\n",
    "Let vector $x=\\begin{bmatrix}x_1\\\\x_2\\\\x_3\\end{bmatrix}$ collects initial distribution information and vector $y=\\begin{bmatrix}y_1\\\\y_2\\\\y_3\\end{bmatrix}$ after one step. Note that the sum $y_1+y_2+y_3=1$ must hold, as well.\n",
    "\n",
    "Let's find out proportion of visitors on each webpage after one step: \n",
    "<ul>\n",
    "    <li> Since there is a link to webpage a in webpages b and c, half of all people visiting webpage b, $x_2/2$ (since there are two links on webpage b), and all of visitors on webpage c, $x_3$, will follow links to webpage a. Thus, $y_1=x_2/2+x_3$. \n",
    "\n",
    "Similarly, there will be $y_2=x_1/2$ visitors on webpage b(link for webpage b is only on webpage a) and $y_3=x_1/2+x_2/2$ visitors on page c (there are links to webpage c on webpages a and b).</li>\n",
    "</ul>\n",
    "So, we have\n",
    "\n",
    "$y_1=\\dfrac{x_2}{2}+x_3$\n",
    "\n",
    "$y_2=\\dfrac{x_1}{2}$\n",
    "\n",
    "$y_3=\\dfrac{x_1}{2}+\\dfrac{x_2}{2}$\n",
    "\n",
    "As you see, this is a system of linear equations. The matrix corresponding to this system is called the ${\\it transition~ matrix}$. Therefore, we can use scipy.linalg and numpy packages for problems like these.\n",
    "\n",
    "Now, we will formulate the problem and write its transition matrix in Python. We start with importing all packages that we need. "
   ]
  },
  {
   "cell_type": "code",
   "execution_count": 1,
   "metadata": {},
   "outputs": [
    {
     "name": "stdout",
     "output_type": "stream",
     "text": [
      "{'a': 2, 'b': 2, 'c': 1}\n"
     ]
    }
   ],
   "source": [
    "import scipy.linalg as la\n",
    "import numpy as np\n",
    "import matplotlib.pyplot as plt\n",
    "\n",
    "pages=['a','b','c']\n",
    "\n",
    "links={'a':{'b','c'},'b':{'a','c'},'c':{'a'}}\n",
    "\n",
    "#To compute entries of the transition matrix, we need to know number of links on each webpage.\n",
    "\n",
    "number_links={}\n",
    "for item, value in links.items():\n",
    "    number_links[item]=len(value)\n",
    "\n",
    "print(number_links)"
   ]
  },
  {
   "cell_type": "markdown",
   "metadata": {},
   "source": [
    "Note that, we used sets for values in the links dictionary. This will give us a flexibility in the if statement below since we will only be checking if a website has a link or not.\n",
    "\n",
    "To build our transition matrix, we will follow the guidelines given in the introduction and I would like to explain the portions of the code:\n",
    "\n",
    "We will be constructing our matrix row by row and store each row in the list vectors. Later we will use vectors list to create an array. We will be using two for loops: One of them will go through the set that is given for each key and the other one will be going through the dictionary keys (i.e., each webpage).\n",
    "\n",
    "Each time, we start with an empty temporary list corresponding each row. By using an if-else statement, we will find out entries of that row and add it to the temporary list lst. After all the iterations are completed for that current key, we will add the list to the vectors list (defined outside so that it becomes permanent). When the first for loop starts again for the next key, lst=[] will make sure to empty the temporary lst from previous loop. To see what happens at each step, I added a print() statement. Later when we combine all this code, we won't have that. \n",
    "\n",
    "Note that vectors.append(lst) code's indentation level is aligned with the inner for loop.\n",
    "\n",
    "We are checking whether there are links to other webpages on a given webpage. If there is a link, then a proportion of the visitors of the current webpage will follow that link. The proportion is determined by the total number of links on that webpage. Therefore, we will use number_links dictionary for that. If there is no link, the proportion will be zero, so we should record that, as well. \n",
    "\n",
    "Note that using two dictionaries with the same keys is helpful in our code. "
   ]
  },
  {
   "cell_type": "code",
   "execution_count": 2,
   "metadata": {},
   "outputs": [
    {
     "name": "stdout",
     "output_type": "stream",
     "text": [
      "Coefficient 0.5 corresponds to the proportion of visitors from b to the webpage a\n",
      "Coefficient 1.0 corresponds to the proportion of visitors from c to the webpage a\n",
      "Coefficient 0.5 corresponds to the proportion of visitors from a to the webpage b\n",
      "Coefficient 0.5 corresponds to the proportion of visitors from a to the webpage c\n",
      "Coefficient 0.5 corresponds to the proportion of visitors from b to the webpage c\n"
     ]
    },
    {
     "data": {
      "text/plain": [
       "array([[0. , 0.5, 1. ],\n",
       "       [0.5, 0. , 0. ],\n",
       "       [0.5, 0.5, 0. ]])"
      ]
     },
     "execution_count": 2,
     "metadata": {},
     "output_type": "execute_result"
    }
   ],
   "source": [
    "vectors=[]\n",
    "\n",
    "for i in pages:\n",
    "    lst=[]   #this is to build the rows one by one from scratch.\n",
    "    for j in links.keys():\n",
    "        if i in links[j]:\n",
    "            y=1/number_links[j]\n",
    "            lst.append(y)\n",
    "            print('Coefficient {} corresponds to the proportion of visitors from {} to the webpage {}'.format(y,j,i))\n",
    "        else:\n",
    "            lst.append(0)        \n",
    "    vectors.append(lst)\n",
    "\n",
    "transition_matrix=np.array(vectors)\n",
    "\n",
    "transition_matrix"
   ]
  },
  {
   "cell_type": "markdown",
   "metadata": {},
   "source": [
    "Notice that each column sum=1. \n",
    "\n",
    "Now, we have our transition matrix, let's go over some problems:"
   ]
  },
  {
   "cell_type": "markdown",
   "metadata": {},
   "source": [
    "### Problem 1: What is the distribution after one step?"
   ]
  },
  {
   "cell_type": "markdown",
   "metadata": {},
   "source": [
    "Let's say initially 15%, 40% and 45% people are visiting web pages a, b and c, respectively. What would be the distribution after one step?"
   ]
  },
  {
   "cell_type": "code",
   "execution_count": 3,
   "metadata": {},
   "outputs": [
    {
     "data": {
      "text/plain": [
       "array([0.65 , 0.075, 0.275])"
      ]
     },
     "execution_count": 3,
     "metadata": {},
     "output_type": "execute_result"
    }
   ],
   "source": [
    "x=np.array([0.15,0.40,0.45])\n",
    "\n",
    "A=transition_matrix\n",
    "\n",
    "y=np.dot(A,x)\n",
    "\n",
    "y"
   ]
  },
  {
   "cell_type": "markdown",
   "metadata": {},
   "source": [
    "This shows that 65% of all people will be visiting webpage a after one step even though there were only 15% visiting initially. Only about 8% of all people visits webpage b. The reason of this sharp decline is due to the fact that only webpage a had a link to webpage b, and there were less people visiting webpage a initially. "
   ]
  },
  {
   "cell_type": "markdown",
   "metadata": {},
   "source": [
    "### Problem 2: Will more or fewer people visit webpage b after two steps?"
   ]
  },
  {
   "cell_type": "code",
   "execution_count": 4,
   "metadata": {},
   "outputs": [
    {
     "data": {
      "text/plain": [
       "array([0.3125, 0.325 , 0.3625])"
      ]
     },
     "execution_count": 4,
     "metadata": {},
     "output_type": "execute_result"
    }
   ],
   "source": [
    "np.dot(A,y)"
   ]
  },
  {
   "cell_type": "markdown",
   "metadata": {},
   "source": [
    "There will be more people visiting webpage b. \n",
    "\n",
    "Alternatively, we could do this by computing second power of $A$ first and then applying $A^2$ to the initial distribution vector $x$. Since matrix-matrix multiplication corresponds to compositions of linear transformations, the result should be the same."
   ]
  },
  {
   "cell_type": "code",
   "execution_count": 5,
   "metadata": {},
   "outputs": [
    {
     "data": {
      "text/plain": [
       "array([0.3125, 0.325 , 0.3625])"
      ]
     },
     "execution_count": 5,
     "metadata": {},
     "output_type": "execute_result"
    }
   ],
   "source": [
    "Asq=np.linalg.matrix_power(A,2)\n",
    "\n",
    "np.dot(Asq,x)"
   ]
  },
  {
   "cell_type": "markdown",
   "metadata": {},
   "source": [
    "We get the same result. However notice that there is a great difference in the results after one step and two steps. If we would like to rank webpages according to their importance, we need more information."
   ]
  },
  {
   "cell_type": "markdown",
   "metadata": {},
   "source": [
    "### Problem 3: What would be the proportion of people visiting webpages after 100 steps?"
   ]
  },
  {
   "cell_type": "code",
   "execution_count": 6,
   "metadata": {},
   "outputs": [
    {
     "data": {
      "text/plain": [
       "array([0.44444444, 0.22222222, 0.33333333])"
      ]
     },
     "execution_count": 6,
     "metadata": {},
     "output_type": "execute_result"
    }
   ],
   "source": [
    "A100=np.linalg.matrix_power(A,100)\n",
    "\n",
    "np.dot(A100,x)"
   ]
  },
  {
   "cell_type": "markdown",
   "metadata": {},
   "source": [
    "This shows that after 100 steps, webpage a has more visitors than webpages b and c. "
   ]
  },
  {
   "cell_type": "markdown",
   "metadata": {},
   "source": [
    "Next, let's take a look at the trend of webpage a before 100 steps. For this, we will compute all the distributions until 100 steps and then plot them. Note that a similar analysis can be made for webpages b and c, as well."
   ]
  },
  {
   "cell_type": "markdown",
   "metadata": {},
   "source": [
    "### Problem 4: What is the trend of the proportions of people visiting webpage a?\n",
    "\n",
    "For these type of questions, it is best to plot the data and look at the pattern. First, we will compute all the distibutions up to and including 100 steps and store that information in a list. Then we will use this list to plot the line graph. For this, we will be using graphing package matplotlib.pyplot."
   ]
  },
  {
   "cell_type": "code",
   "execution_count": 7,
   "metadata": {},
   "outputs": [
    {
     "name": "stdout",
     "output_type": "stream",
     "text": [
      "(1, 0.65) (100, 0.4444444444444444)\n"
     ]
    }
   ],
   "source": [
    "lst=[]\n",
    "\n",
    "for i in range(1,101):\n",
    "    M=np.linalg.matrix_power(A,i)\n",
    "    y=np.dot(M,x)\n",
    "    lst.append((i,y[0]))  #y[0] is for webpage a\n",
    "\n",
    "#let's see what the first and last output look like:    \n",
    "print(lst[0],lst[-1])"
   ]
  },
  {
   "cell_type": "markdown",
   "metadata": {},
   "source": [
    "Now, we will plot this data:"
   ]
  },
  {
   "cell_type": "code",
   "execution_count": 8,
   "metadata": {},
   "outputs": [
    {
     "data": {
      "image/png": "[encoded data removed]",
      "text/plain": [
       "<Figure size 432x288 with 1 Axes>"
      ]
     },
     "metadata": {
      "needs_background": "light"
     },
     "output_type": "display_data"
    }
   ],
   "source": [
    "x_values=[]\n",
    "y_values=[]\n",
    "\n",
    "for item in lst:\n",
    "    x_values.append(item[0])\n",
    "    y_values.append(item[1])\n",
    "    \n",
    "plt.plot(x_values,y_values)\n",
    "plt.xlabel('number of visits of webpage a')\n",
    "plt.xticks(np.arange(0,101,5))\n",
    "plt.ylabel('proportion of people visiting webpage a')\n",
    "plt.title('trend of webpage a')\n",
    "\n",
    "\n",
    "plt.show()\n"
   ]
  },
  {
   "cell_type": "markdown",
   "metadata": {},
   "source": [
    "It seems like the proportion of all people visiting webpage a is settled even before 20th round. Let's look closer. For this we will only change the number of iterations and create new lists for the plot:"
   ]
  },
  {
   "cell_type": "code",
   "execution_count": 9,
   "metadata": {},
   "outputs": [
    {
     "data": {
      "image/png": "[encoded data removed]",
      "text/plain": [
       "<Figure size 432x288 with 1 Axes>"
      ]
     },
     "metadata": {
      "needs_background": "light"
     },
     "output_type": "display_data"
    }
   ],
   "source": [
    "x20_values=[]\n",
    "y20_values=[]\n",
    "\n",
    "for item in lst[0:21]:\n",
    "    x20_values.append(item[0])\n",
    "    y20_values.append(item[1])\n",
    "    \n",
    "plt.plot(x20_values,y20_values)\n",
    "plt.xlabel('number of visits of webpage a')\n",
    "plt.xticks(np.arange(0,21,2))\n",
    "plt.ylabel('proportion of people visiting webpage a')\n",
    "plt.title('trend of webpage a (zoomed version)')\n",
    "\n",
    "plt.show()"
   ]
  },
  {
   "cell_type": "markdown",
   "metadata": {},
   "source": [
    "This looks pretty cool.  This shows that after a certain time, about 45% people will be visiting webpage a, about %33 percent visiting webpage c and about 22% will be visiting webpage b. Note that initially only 15% of all people were on page a. \n",
    "\n",
    "In this case, the highest ranked webpage will be webpage a, then webpage c and then webpage b. "
   ]
  },
  {
   "cell_type": "markdown",
   "metadata": {},
   "source": [
    "### Problem 5: Is there an equilibrium distribution? Which webpage has the highest naive PageRank?"
   ]
  },
  {
   "cell_type": "markdown",
   "metadata": {},
   "source": [
    "In other words, is there an initial distribution where the proportion of people visiting each webpage does not change after one step? We can formulate this problem as $Ax=x$. So, we will be looking for a solution $x$ satisfying this equation. However, we cannot solve this equation like this as both sides have the unknown vector $x$. So, we write\n",
    "\n",
    "$Ax=x \\Rightarrow Ax-x=0 \\Rightarrow (A-I)x=0$ \n",
    "\n",
    "where $I$ is the identity matrix and $0$ is the zero vector. Now, we can look for solutions of this new system. \n",
    "\n",
    "In numpy, identity matrix is given as np.identity(n) where n is the size of the matrix $A$. In our case, $A$ is a $3\\times 3$ matrix, so we will use np.identity(3)."
   ]
  },
  {
   "cell_type": "code",
   "execution_count": 10,
   "metadata": {},
   "outputs": [
    {
     "data": {
      "text/plain": [
       "array([[-1. ,  0.5,  1. ],\n",
       "       [ 0.5, -1. ,  0. ],\n",
       "       [ 0.5,  0.5, -1. ]])"
      ]
     },
     "execution_count": 10,
     "metadata": {},
     "output_type": "execute_result"
    }
   ],
   "source": [
    "B=A-np.identity(3)\n",
    "\n",
    "B"
   ]
  },
  {
   "cell_type": "markdown",
   "metadata": {},
   "source": [
    "Neither scipy.linalg not numpy.linalg has a built-in function for finding rref. So, let's reduce this to an upper triangular matrix manually."
   ]
  },
  {
   "cell_type": "code",
   "execution_count": 11,
   "metadata": {},
   "outputs": [
    {
     "data": {
      "text/plain": [
       "array([[-1.  ,  0.5 ,  1.  ],\n",
       "       [ 0.  , -0.75,  0.5 ],\n",
       "       [ 0.  ,  0.  ,  0.  ]])"
      ]
     },
     "execution_count": 11,
     "metadata": {},
     "output_type": "execute_result"
    }
   ],
   "source": [
    "C=B   #redefined not to change the original matrix B\n",
    "C[1]=0.5*B[0]+B[1]\n",
    "C[2]=0.5*B[0]+B[2]\n",
    "C[2]=B[1]+B[2]\n",
    "\n",
    "C"
   ]
  },
  {
   "cell_type": "markdown",
   "metadata": {},
   "source": [
    "This shows that if $x=\\begin{bmatrix}x_1\\\\x_2\\\\x_3\\end{bmatrix}$, then we have\n",
    "\n",
    "$-x_1+0.5x_2+x_3=0$\n",
    "\n",
    "$-0.75x_2+0.5x_3=0$\n",
    "\n",
    "implying that \n",
    "\n",
    "$x_1=0.5x_2+x_3$ and $x_2=\\dfrac{0.5x_3}{0.75} \\Rightarrow x_2=\\dfrac{2}{3}x_3$ and $x_1=\\dfrac{4}{3}x_3$. \n",
    "\n",
    "Note that we must have $x_1+x_2+x_3=1$, so this implies that \n",
    "\n",
    "$\\dfrac{4}{3}x_3+\\dfrac{2}{3}x_3+x_3=1 \\Rightarrow x_3=\\dfrac{1}{3}$. \n",
    "\n",
    "Therefore, the equilibrium distribution is\n",
    "\n",
    "$x_{equ}=\\begin{bmatrix}\\dfrac{4}{9}\\\\\\dfrac{2}{9}\\\\\\dfrac{1}{3}\\end{bmatrix}$. "
   ]
  },
  {
   "cell_type": "code",
   "execution_count": 12,
   "metadata": {},
   "outputs": [
    {
     "data": {
      "text/plain": [
       "array([0.44444444, 0.22222222, 0.33333333])"
      ]
     },
     "execution_count": 12,
     "metadata": {},
     "output_type": "execute_result"
    }
   ],
   "source": [
    "x_equ=np.array([4/9,2/9,1/3])\n",
    "\n",
    "x_equ"
   ]
  },
  {
   "cell_type": "markdown",
   "metadata": {},
   "source": [
    "This was exactly what we observed in Problem 3 and explored more in Problem 4 for webpage a. In fact, if we look at what happens after $n$ steps and take limit, we should get the same distribution. Indeed, it can be shown that $\\displaystyle{\\lim_{n\\to\\infty} (A^{n}x)=x_{equ}}$.\n",
    "\n",
    "This means that no matter what the initial distribution is, final distribution will always be $y=\\begin{bmatrix}0.44444444\\\\0.22222222\\\\0.33333333\\end{bmatrix}$ in the long run. \n",
    "\n",
    "Therefore, webpage a has the highest naive PageRank followed by webpage c and webpage b with this configuration.\n"
   ]
  },
  {
   "cell_type": "markdown",
   "metadata": {},
   "source": [
    "### Problem 6: If we know the distribution after one step, can we get the initial distribution?\n",
    "\n",
    "In this problem, we are going backwards. That is, assume that $y$ is given in $Ax=y$. We want to find $x$. Thus, we need to solve this problem for $x$. "
   ]
  },
  {
   "cell_type": "code",
   "execution_count": 13,
   "metadata": {},
   "outputs": [
    {
     "data": {
      "text/plain": [
       "array([0.5, 0.3, 0.2])"
      ]
     },
     "execution_count": 13,
     "metadata": {},
     "output_type": "execute_result"
    }
   ],
   "source": [
    "y_1=[0.35,0.25,0.4]\n",
    "\n",
    "la.solve(A,y_1)\n"
   ]
  },
  {
   "cell_type": "markdown",
   "metadata": {},
   "source": [
    "However, this may not be working all the time. For example, let's look at the following example. "
   ]
  },
  {
   "cell_type": "code",
   "execution_count": 14,
   "metadata": {},
   "outputs": [
    {
     "data": {
      "text/plain": [
       "array([ 0.7, -0.2,  0.5])"
      ]
     },
     "execution_count": 14,
     "metadata": {},
     "output_type": "execute_result"
    }
   ],
   "source": [
    "y_2=[0.4,0.35,0.25]\n",
    "\n",
    "la.solve(A,y_2)\n"
   ]
  },
  {
   "cell_type": "markdown",
   "metadata": {},
   "source": [
    "This doesn't make sense, a proportion cannot be negative. Therefore, in this case, there is no initial distribution resulting in the distribution $y=[0.4,0.35,0.25]$. Therefore, we need to make sure that all the entries in vector $x$ are nonnegative. We can do that with an if-else statement. If one of the entries is negative, the process stop and writes No solution. "
   ]
  },
  {
   "cell_type": "code",
   "execution_count": 15,
   "metadata": {},
   "outputs": [
    {
     "name": "stdout",
     "output_type": "stream",
     "text": [
      "Initial distribution if Ax=y_1: [0.5 0.3 0.2]\n",
      "Initial distribution if Ax=y_2: No solution\n"
     ]
    }
   ],
   "source": [
    "def get_initial(A,y):\n",
    "    x=la.solve(A,y)\n",
    "    for i in range(0,3):\n",
    "        if x[i]<0:\n",
    "            return \"No solution\"\n",
    "            break\n",
    "        else:\n",
    "            continue\n",
    "    return x\n",
    "\n",
    "y_1=[0.35,0.25,0.4]\n",
    "y_2=[0.4,0.35,0.25]\n",
    "\n",
    "print('Initial distribution if Ax={}: {}'.format('y_1',get_initial(A,y_1)))\n",
    "print('Initial distribution if Ax={}: {}'.format('y_2',get_initial(A,y_2)))\n",
    "\n"
   ]
  },
  {
   "cell_type": "markdown",
   "metadata": {},
   "source": [
    "If $rank(A)=3$, then the matrix is invertible. In this case, we could use \n",
    "\n",
    "$y=Ax \\rightarrow x=A^{-1}y$ \n",
    "\n",
    "to find initial distribution $x$.\n",
    "\n",
    "To find the rank of the matrix, we use linalg.matrix_rank() in numpy package. (Not scipy linalg submodule)\n"
   ]
  },
  {
   "cell_type": "code",
   "execution_count": 16,
   "metadata": {},
   "outputs": [
    {
     "data": {
      "text/plain": [
       "3"
      ]
     },
     "execution_count": 16,
     "metadata": {},
     "output_type": "execute_result"
    }
   ],
   "source": [
    "rank_A=np.linalg.matrix_rank(A)\n",
    "\n",
    "rank_A"
   ]
  },
  {
   "cell_type": "code",
   "execution_count": 17,
   "metadata": {},
   "outputs": [
    {
     "name": "stdout",
     "output_type": "stream",
     "text": [
      "Initial distribution if Ax=y_1: [0.5 0.3 0.2]\n",
      "Initial distribution if Ax=y_2: No solution\n"
     ]
    }
   ],
   "source": [
    "def get_initial2(A,y):\n",
    "    if np.linalg.matrix_rank(A)==len(pages):\n",
    "        Ainv=la.inv(A)\n",
    "        x=np.dot(Ainv,y)\n",
    "    for i in range(0,3):\n",
    "        if x[i]<0:\n",
    "            return \"No solution\"\n",
    "            break\n",
    "        else:\n",
    "            continue\n",
    "    return x\n",
    "\n",
    "A=transition_matrix\n",
    "y_1=[0.35,0.25,0.4]\n",
    "y_2=[0.4,0.35,0.25]\n",
    "\n",
    "print('Initial distribution if Ax={}: {}'.format('y_1',get_initial2(A,y_1)))\n",
    "print('Initial distribution if Ax={}: {}'.format('y_2',get_initial2(A,y_2)))"
   ]
  },
  {
   "cell_type": "markdown",
   "metadata": {},
   "source": [
    "### Problem 7: Comparing different webpages\n",
    "\n",
    "In this problem, we will see how we can use our knowledge in real life.\n",
    "\n",
    "Assume that we have an online website with five webpages. Currently, our webpage link configuration is as follows:\n",
    "\n",
    "pages=['a','b','c','d','e']\n",
    "\n",
    "current_version={'a':{'b','e'},'b':{'c','d','e'},'c':{'a','d'},'d':{'b','c'},'e':{'a','d'}}\n",
    "\n",
    "We would like to compute naive PageRank of these webpages. Our data analysis team reported that a visitor usually follow a total of three links before leaving our webpage. We first want to find out which webpage has more visitors after three transitions. \n",
    "\n",
    "In order to make this problem simpler, we will assume that initially an equal proportion of visitors are visiting each webpage. In addition, we will assume that every visitor follows exactly three links before they leave the website. \n",
    "\n",
    "We first write functions for the transition matrix, and the pagerank order."
   ]
  },
  {
   "cell_type": "code",
   "execution_count": 18,
   "metadata": {},
   "outputs": [],
   "source": [
    "#First code gives the transition matrix\n",
    "def transition_matrix(pages,links):\n",
    "    number_links={}\n",
    "    for item, value in links.items():\n",
    "        number_links[item]=len(value)\n",
    "    vectors=[]\n",
    "    for i in pages:\n",
    "        lst=[]   #this is to build the rows one by one from scratch.\n",
    "        for j in links.keys():\n",
    "            if i in links[j]:\n",
    "                y=1/number_links[j]\n",
    "                lst.append(y)\n",
    "            else:\n",
    "                lst.append(0)        \n",
    "        vectors.append(lst)\n",
    "    transition_matrix=np.array(vectors)\n",
    "    return transition_matrix\n",
    "\n",
    "#since we have more webpages, we write a function to sort them\n",
    "def pagerank_order(A,x):\n",
    "    y=np.dot(A,x)\n",
    "    lst=list(zip(list(y),pages))\n",
    "    sorted_lst=sorted(lst,reverse=True)\n",
    "    return sorted_lst"
   ]
  },
  {
   "cell_type": "markdown",
   "metadata": {},
   "source": [
    "Let's see if our code works well with the problem that we covered above."
   ]
  },
  {
   "cell_type": "code",
   "execution_count": 19,
   "metadata": {},
   "outputs": [
    {
     "name": "stdout",
     "output_type": "stream",
     "text": [
      "[(0.65, 'a'), (0.275, 'c'), (0.075, 'b')]\n"
     ]
    }
   ],
   "source": [
    "pages1=['a','b','c']\n",
    "links1={'a':{'b','c'},'b':{'a','c'},'c':{'a'}}\n",
    "x1=np.array([0.15,0.40,0.45])\n",
    "\n",
    "A1=transition_matrix(pages1,links1)\n",
    "\n",
    "print(pagerank_order(A1,x))"
   ]
  },
  {
   "cell_type": "markdown",
   "metadata": {},
   "source": [
    "This was just as before. Let's go back to our problem."
   ]
  },
  {
   "cell_type": "code",
   "execution_count": 20,
   "metadata": {},
   "outputs": [
    {
     "data": {
      "text/plain": [
       "[(0.26111111111111107, 'd'),\n",
       " (0.2, 'b'),\n",
       " (0.19444444444444442, 'c'),\n",
       " (0.18333333333333335, 'a'),\n",
       " (0.1611111111111111, 'e')]"
      ]
     },
     "execution_count": 20,
     "metadata": {},
     "output_type": "execute_result"
    }
   ],
   "source": [
    "pages=['a','b','c','d','e']\n",
    "current_version={'a':{'b','e'},'b':{'c','d','e'},'c':{'a','d'},'d':{'b','c'},'e':{'a','d'}}\n",
    "new_x=np.array([0.2,0.2,0.2,0.2,0.2])\n",
    "\n",
    "A_new=transition_matrix(pages,current_version)\n",
    "A3=np.linalg.matrix_power(A_new,3)\n",
    "\n",
    "pagerank_order(A3,new_x)"
   ]
  },
  {
   "cell_type": "markdown",
   "metadata": {},
   "source": [
    "After three steps, we see that webpage d has the highest naive PageRank followed by webpages b, c, a, and e. If we have an important topic that we want to share with our visitors, webpage d would be the best choice."
   ]
  },
  {
   "cell_type": "markdown",
   "metadata": {},
   "source": [
    "### Problem 8: Let's consider the website with 5 webpages. We want to increase pagerank of webpage a to 1 by adding more links to webpage a. Is it possible? If possible what should be the best configuration?"
   ]
  },
  {
   "cell_type": "code",
   "execution_count": 21,
   "metadata": {},
   "outputs": [
    {
     "name": "stdout",
     "output_type": "stream",
     "text": [
      "[(0.26111111111111107, 'd'), (0.2, 'b'), (0.19444444444444442, 'c'), (0.18333333333333335, 'a'), (0.1611111111111111, 'e')]\n",
      "[(0.25555555555555554, 'd'), (0.2472222222222222, 'c'), (0.18888888888888888, 'a'), (0.18055555555555555, 'b'), (0.1277777777777778, 'e')]\n",
      "[(0.3, 'd'), (0.21388888888888888, 'c'), (0.18611111111111112, 'b'), (0.17222222222222222, 'a'), (0.1277777777777778, 'e')]\n",
      "[(0.2902777777777778, 'd'), (0.24444444444444446, 'c'), (0.17916666666666667, 'a'), (0.175, 'b'), (0.11111111111111112, 'e')]\n"
     ]
    }
   ],
   "source": [
    "pages=['a','b','c','d','e']\n",
    "current_version={'a':{'b','e'},'b':{'c','d','e'},'c':{'a','d'},'d':{'b','c'},'e':{'a','d'}}\n",
    "new_x=np.array([0.2,0.2,0.2,0.2,0.2])\n",
    "\n",
    "version_1={'a':{'b','e','c'},'b':{'c','d','e'},'c':{'a','d'},'d':{'b','c'},'e':{'a','d'}}\n",
    "version_2={'a':{'b','e','d'},'b':{'c','d','e'},'c':{'a','d'},'d':{'b','c'},'e':{'a','d'}}\n",
    "version_3={'a':{'b','e','c','d'},'b':{'c','d','e'},'c':{'a','d'},'d':{'b','c'},'e':{'a','d'}}\n",
    "\n",
    "version_list=[current_version,version_1,version_2,version_3]\n",
    "\n",
    "for item in version_list:    \n",
    "    A0=transition_matrix(pages,item)\n",
    "    version_matrix=np.linalg.matrix_power(A0,3)\n",
    "    p=pagerank_order(version_matrix,new_x)\n",
    "    print(p)\n"
   ]
  },
  {
   "cell_type": "markdown",
   "metadata": {},
   "source": [
    "Unfortunately, with these configurations, we could increase pagerank of webpage a by only one rank higher. So, it is not possible. Therefore, to increase webpage a ranking, there should another configuration. \n",
    "\n"
   ]
  },
  {
   "cell_type": "markdown",
   "metadata": {},
   "source": [
    "More thoughts: Here are the ranking with each version:\n",
    "\n",
    "current_version -> d, b, c, a, e\n",
    "\n",
    "version_1 -> d, c, a, b, e\n",
    "\n",
    "version_2 -> d, c, b, a, e\n",
    "\n",
    "version_3 -> d, c, a, b, e\n",
    "\n",
    "In any case, webpage d has the highest naive PageRank while webpage e has the worst. Notice that adding more links to webpage a lowers webpage b's ranking. However, if we look at percentages given above, proportion of all people visiting webpage b is not that different than the current version. \n",
    "\n",
    "You could try many different combinations and maybe one of them would make webpage a as the most visited page after three visits. You can even try many different versions of this problem."
   ]
  }
 ],
 "metadata": {
  "kernelspec": {
   "display_name": "Python 3",
   "language": "python",
   "name": "python3"
  },
  "language_info": {
   "codemirror_mode": {
    "name": "ipython",
    "version": 3
   },
   "file_extension": ".py",
   "mimetype": "text/x-python",
   "name": "python",
   "nbconvert_exporter": "python",
   "pygments_lexer": "ipython3",
   "version": "3.7.3"
  }
 },
 "nbformat": 4,
 "nbformat_minor": 2
}

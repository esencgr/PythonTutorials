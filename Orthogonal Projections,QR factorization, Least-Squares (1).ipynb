{
 "cells": [
  {
   "cell_type": "markdown",
   "metadata": {},
   "source": [
    "# Orthgonal Projections, QR-factorization of a matrix and least-squares solutions\n",
    "\n",
    "In this tutorial, we will cover three topics: Orthgonal Projections, QR-factorization of a matrix and least-squares solutions. In each part, I will first give the linear algebra foundation by using an example and then generalize the code so that we can use it in other problems as well. For the linear algebraic theoretical part here and for more details on this topic, you may want to look at Section 5.4 in Bretscher's Linear Algebra textbook."
   ]
  },
  {
   "cell_type": "markdown",
   "metadata": {},
   "source": [
    "## Part I: Orthogonal Projections\n",
    "\n",
    "In the first part of this tutorial, we will cover orthogonal projection of a vector onto a subspace $V$ of ${\\mathbb R^n}$ with an orthonormal basis ${\\frak B}=\\{{\\mathbf u}_1,{\\mathbf u}_2,\\ldots,{\\mathbf u}_m\\}$. So, the projection $proj_V({\\mathbf x})$ of a vector ${\\mathbf x}$ is computed as\n",
    "\n",
    "$$proj_V({\\mathbf x})=({\\mathbf x}\\cdot {\\mathbf u}_1){\\mathbf u}_1+({\\mathbf x}\\cdot {\\mathbf u}_2){\\mathbf u}_2+\\ldots+({\\mathbf x}\\cdot {\\mathbf u}_m){\\mathbf u}_m.$$\n",
    "\n",
    "Recall that a set of vectors $\\{{\\mathbf u}_1,{\\mathbf u}_2,\\ldots,{\\mathbf u}_m\\}$ is called orthonormal if they are unit vectors that are orthogonal to each other."
   ]
  },
  {
   "cell_type": "markdown",
   "metadata": {},
   "source": [
    "### Example:\n",
    "\n",
    "For simplicity, let's consider a 2 dimensional subspace $V$ of ${\\mathbb R^3}$ with basis ${\\frak B}_1=\\{{\\mathbf v}_1,{\\mathbf v}_2\\}$ where  ${\\mathbf v}_1=\\begin{bmatrix}1 \\\\ 2 \\\\ -1\\end{bmatrix}$ and ${\\mathbf v}_2=\\begin{bmatrix} -2 \\\\ 1 \\\\ 0\\end{bmatrix}$. \n",
    "\n",
    "We want to obtain the orthogonal projection of vector ${\\mathbf x}=\\begin{bmatrix} -4 \\\\ 3 \\\\ 5\\end{bmatrix}$ onto the subspace $V$.\n",
    "\n",
    "Note that vectors ${\\mathbf v}_1$ and ${\\mathbf v}_2$ are orthogonal (i.e., their dot product is zero) but they are not unit vectors. In this case, orthogonality condition is satisfied and it is easy to obtain the orthonormal basis ${\\frak B}_2=\\{{\\mathbf u}_1,{\\mathbf u}_2\\}$ by normalizing ${\\mathbf v}_1$ and ${\\mathbf v}_2$."
   ]
  },
  {
   "cell_type": "markdown",
   "metadata": {},
   "source": [
    "Let's first import packages that we need for this part."
   ]
  },
  {
   "cell_type": "code",
   "execution_count": 1,
   "metadata": {},
   "outputs": [],
   "source": [
    "import numpy as np\n",
    "import scipy.linalg as la"
   ]
  },
  {
   "cell_type": "markdown",
   "metadata": {},
   "source": [
    "We check orthogonality:"
   ]
  },
  {
   "cell_type": "code",
   "execution_count": 2,
   "metadata": {},
   "outputs": [
    {
     "data": {
      "text/plain": [
       "0"
      ]
     },
     "execution_count": 2,
     "metadata": {},
     "output_type": "execute_result"
    }
   ],
   "source": [
    "v_1=np.array([1,2,-1])\n",
    "v_2=np.array([-2,1,0])\n",
    "x=np.array([-4,3,5])\n",
    "\n",
    "#given basis\n",
    "B_1=[v_1,v_2]\n",
    "\n",
    "np.dot(v_1,v_2)"
   ]
  },
  {
   "cell_type": "markdown",
   "metadata": {},
   "source": [
    "Next, we will find the unit vectors in the directions of ${\\mathbf v}_1$ and ${\\mathbf v}_2$ to obtain ${\\mathbf u}_1$ and ${\\mathbf u}_2$. For this, we need to compute length of vectors."
   ]
  },
  {
   "cell_type": "code",
   "execution_count": 3,
   "metadata": {},
   "outputs": [
    {
     "data": {
      "text/plain": [
       "[array([ 0.40824829,  0.81649658, -0.40824829]),\n",
       " array([-0.89442719,  0.4472136 ,  0.        ])]"
      ]
     },
     "execution_count": 3,
     "metadata": {},
     "output_type": "execute_result"
    }
   ],
   "source": [
    "#define length function\n",
    "def length(v):\n",
    "    sq_total=0\n",
    "    for i in range(0,len(v)):\n",
    "        sq_total +=v[i]**2     #each component is squared and added to the total\n",
    "    return np.sqrt(sq_total)   #compute its square root by np.sqrt()\n",
    "\n",
    "#first have an empty list for orthonormal basis B_2\n",
    "B_2=[]\n",
    "\n",
    "for vector in B_1:\n",
    "    vector_length=length(vector)\n",
    "    u=(1/vector_length)*vector\n",
    "    B_2.append(u)\n",
    "    \n",
    "#orthonormal basis\n",
    "B_2\n"
   ]
  },
  {
   "cell_type": "markdown",
   "metadata": {},
   "source": [
    "Next, we will compute the orthogonal projection of ${\\mathbf x}$ by using orthonormal basis $B_2$."
   ]
  },
  {
   "cell_type": "code",
   "execution_count": 4,
   "metadata": {},
   "outputs": [
    {
     "data": {
      "text/plain": [
       "array([-4.9,  1.2,  0.5])"
      ]
     },
     "execution_count": 4,
     "metadata": {},
     "output_type": "execute_result"
    }
   ],
   "source": [
    "def proj(basis,x):\n",
    "    proj=0\n",
    "    for i in range(0,len(basis)):\n",
    "        dot=np.dot(basis[i],x)\n",
    "        comp=dot*basis[i]\n",
    "        proj+=comp\n",
    "    return proj\n",
    "        \n",
    "proj(B_2,x)\n"
   ]
  },
  {
   "cell_type": "markdown",
   "metadata": {},
   "source": [
    "## Part II: QR - Factorization\n",
    "\n",
    "In Part I, we see that if vectors in a basis are orthogonal, it is easy to find an orthonormal basis for the subspace and use that basis to compute the orthogonal projection of a given vector.  \n",
    "\n",
    "If vectors in a basis are not orthogonal, we can apply Gram-Schmidt orthogonalization process to obtain an orthonormal basis. This is a lengthy process and we can certainly write a code for it. However, here I will intoduce a simple shortcut by using the QR-factorization. \n",
    "\n",
    "In class, we saw that if columns of a given matrix $A$ are linearly independent, we can compute its $QR-factorization$ where columns of $Q$ are orthonormal vectors and $R$ is an upper triangular matrix. Since columns of $A$ are linearly independent, they form a basis for image $im(A)$. Therefore, columns of $Q$ form an orthonormal basis for $im(A)$ and we can use this basis to compute an orthogonal projection of a given vector. \n",
    "\n",
    "In scipy.linalg module, QR-factorization is just scipy.linalg.qr(). (For the documentation, please visit https://docs.scipy.org/doc/scipy-0.16.1/reference/generated/scipy.linalg.qr.html) However, before we use this code, we will construct the matrix by using its transpose. For example, np.array([v_1,v_2]) produces the matrix with rows v_1,v_2, not columns. Since $(A^T)^T=A$ for any matrix, we will first write $A^T$ and then take transpose of this matrix to find $A$, whose columns are vectors v_1, v_2. Let's solve the problem above with this approach."
   ]
  },
  {
   "cell_type": "code",
   "execution_count": 5,
   "metadata": {},
   "outputs": [
    {
     "name": "stdout",
     "output_type": "stream",
     "text": [
      "This is transpose:\n",
      " [[ 1  2 -1]\n",
      " [-2  1  0]]\n",
      "Matrix A is:\n",
      " [[ 1 -2]\n",
      " [ 2  1]\n",
      " [-1  0]]\n"
     ]
    }
   ],
   "source": [
    "#v_1=np.array([1,2,-1])\n",
    "#v_2=np.array([-2,1,0])\n",
    "#x=np.array([-4,3,5])\n",
    "#given basis\n",
    "#B_1=[v_1,v_2]\n",
    "\n",
    "A_T=np.array([v_1,v_2])\n",
    "\n",
    "print('This is transpose:\\n {}'.format(A_T))\n",
    "\n",
    "A=np.transpose(A_T)\n",
    "\n",
    "print('Matrix A is:\\n {}'.format(A))"
   ]
  },
  {
   "cell_type": "markdown",
   "metadata": {},
   "source": [
    "In the QR-factorization code, we will use 'economic' as its mode to produce the result in the form that we saw in class."
   ]
  },
  {
   "cell_type": "code",
   "execution_count": 6,
   "metadata": {},
   "outputs": [
    {
     "data": {
      "text/plain": [
       "(array([[-4.08248290e-01,  8.94427191e-01],\n",
       "        [-8.16496581e-01, -4.47213595e-01],\n",
       "        [ 4.08248290e-01, -7.06140940e-17]]),\n",
       " array([[-2.44948974,  0.        ],\n",
       "        [ 0.        , -2.23606798]]))"
      ]
     },
     "execution_count": 6,
     "metadata": {},
     "output_type": "execute_result"
    }
   ],
   "source": [
    "la.qr(A,mode='economic')"
   ]
  },
  {
   "cell_type": "markdown",
   "metadata": {},
   "source": [
    "The first matrix given in this tuple is $Q$ and the second one is $R$. "
   ]
  },
  {
   "cell_type": "code",
   "execution_count": 7,
   "metadata": {},
   "outputs": [
    {
     "name": "stdout",
     "output_type": "stream",
     "text": [
      "[[-4.08248290e-01  8.94427191e-01]\n",
      " [-8.16496581e-01 -4.47213595e-01]\n",
      " [ 4.08248290e-01 -7.06140940e-17]]\n"
     ]
    }
   ],
   "source": [
    "Q=la.qr(A,mode='economic')[0]\n",
    "\n",
    "print(Q)"
   ]
  },
  {
   "cell_type": "markdown",
   "metadata": {},
   "source": [
    "Now, we want to get the columns of $Q$ as arrays. Therefore, we will first find its transpose and then get the components and store them in the basis list $B$."
   ]
  },
  {
   "cell_type": "code",
   "execution_count": 8,
   "metadata": {},
   "outputs": [
    {
     "data": {
      "text/plain": [
       "[array([-0.40824829, -0.81649658,  0.40824829]),\n",
       " array([ 8.94427191e-01, -4.47213595e-01, -7.06140940e-17])]"
      ]
     },
     "execution_count": 8,
     "metadata": {},
     "output_type": "execute_result"
    }
   ],
   "source": [
    "Q_T=np.transpose(Q)\n",
    "\n",
    "u_1=Q_T[0]\n",
    "u_2=Q_T[1]\n",
    "\n",
    "B=[u_1,u_2]\n",
    "\n",
    "B"
   ]
  },
  {
   "cell_type": "markdown",
   "metadata": {},
   "source": [
    "This is the same set that we found in Part I.\n",
    "\n",
    "Now, let's compute orthogonal projection of ${\\mathbf x}$ (given in Part I) onto the subspace $V$."
   ]
  },
  {
   "cell_type": "code",
   "execution_count": 9,
   "metadata": {},
   "outputs": [
    {
     "data": {
      "text/plain": [
       "array([-4.9,  1.2,  0.5])"
      ]
     },
     "execution_count": 9,
     "metadata": {},
     "output_type": "execute_result"
    }
   ],
   "source": [
    "proj(B,x)"
   ]
  },
  {
   "cell_type": "markdown",
   "metadata": {},
   "source": [
    "This is the same answer by using QR-factorization method."
   ]
  },
  {
   "cell_type": "markdown",
   "metadata": {},
   "source": [
    "### A function for computing orthogonal projections using QR-factorization\n",
    "\n",
    "Now, lets write the function proj_by_qr that take a basis set ${\\frak B}$ and vector ${\\mathbb x}$ as input and gives the projection of ${\\mathbb x}$ onto the subspace with basis ${\\frak B}$."
   ]
  },
  {
   "cell_type": "code",
   "execution_count": 10,
   "metadata": {},
   "outputs": [],
   "source": [
    "def proj_by_qr(B,x):\n",
    "    for i in range(0,len(B)):\n",
    "        A_T=B[0]\n",
    "        A_T=np.append([A_T],[B[i]],axis=0)\n",
    "    A=np.transpose(A_T)\n",
    "    QR_factorization=la.qr(A,mode='economic')\n",
    "    Q=QR_factorization[0]\n",
    "    Q_T=np.transpose(Q)\n",
    "    #print(Q)\n",
    "    orthonormal_basis=[]\n",
    "    for i in range(0,len(Q_T)):\n",
    "        orthonormal_basis.append(Q_T[i]) \n",
    "    return proj(orthonormal_basis,x)\n",
    "\n"
   ]
  },
  {
   "cell_type": "markdown",
   "metadata": {},
   "source": [
    "Let's check our code with the vectors v_1, v_2 given in Part I."
   ]
  },
  {
   "cell_type": "code",
   "execution_count": 11,
   "metadata": {},
   "outputs": [
    {
     "data": {
      "text/plain": [
       "array([-4.9,  1.2,  0.5])"
      ]
     },
     "execution_count": 11,
     "metadata": {},
     "output_type": "execute_result"
    }
   ],
   "source": [
    "Basis=[v_1,v_2]\n",
    "\n",
    "proj_by_qr(Basis,x)"
   ]
  },
  {
   "cell_type": "markdown",
   "metadata": {},
   "source": [
    "### Example:\n",
    "\n",
    "Note that this works with more vectors and more dimensions, as well. To keep this tutorial brief, we are only working with linearly independent vectors. You can even add more to check linear independence before computing the projection."
   ]
  },
  {
   "cell_type": "code",
   "execution_count": 12,
   "metadata": {},
   "outputs": [
    {
     "data": {
      "text/plain": [
       "array([ 2.88064516,  5.76129032, -1.58064516,  2.6       ,  6.60322581])"
      ]
     },
     "execution_count": 12,
     "metadata": {},
     "output_type": "execute_result"
    }
   ],
   "source": [
    "w_1=np.array([1,2,-1,0,5])\n",
    "w_2=np.array([0,1,-2,0,-2])\n",
    "w_3=np.array([1,2,0,2,-1])\n",
    "\n",
    "x_3=np.array([3,5,4,4,8])\n",
    "\n",
    "B_3=[w_1,w_2,w_3]\n",
    "\n",
    "proj_by_qr(B_3,x_3)"
   ]
  },
  {
   "cell_type": "markdown",
   "metadata": {},
   "source": [
    "## Part III: Least squares solutions and best fitting linear model to a given dataset"
   ]
  },
  {
   "cell_type": "markdown",
   "metadata": {},
   "source": [
    "In this section, we will cover the least squares solution to a system of equations given as $A{\\mathbf x}={\\mathbf b}$, where $A$ is an $m\\times n$ matrix. This is especially useful when the system is inconsistent, i.e., it doesn't have a solution. In this case, the next best thing is finding a solution that is closest to this. \n",
    "\n",
    "Here, we will be looking for a solution ${\\mathbf x^*}$ such that ${\\mathbf b}-A{\\mathbf x^*}$ minimizes the difference ${\\mathbf b}-A{\\mathbf x}$ as much as possible. For this we will try to minimize the length $\\|{\\mathbf b}-A{\\mathbf x}\\|$. This brings us to the definition of the least squares solution:\n",
    "\n",
    "${\\textbf{Definition:}}$ The least squares solution ${\\mathbf x^*}$ to the system $A{\\mathbf x}={\\mathbf b}$ is the vector ${\\mathbf x^*}\\in{\\mathbb R}^n$ satisfying\n",
    "\n",
    "$$\\|{\\mathbf b}-A{\\mathbf x^*}\\|\\leq \\|{\\mathbf b}-A{\\mathbf x}\\|\\quad\\mbox{for all}\\quad{\\mathbf x}\\in{\\mathbb R}^n.$$\n",
    "\n",
    "\n",
    "Note that $A{\\mathbf x^*}\\in im(A)$. Therefore, we can consider $A{\\mathbf x^*}=proj_V({\\mathbf b})$, i.e., orthogonal projection of ${\\mathbf b}$ onto the subspace $im(A)$. Thus, $b-A{\\mathbf x^*}\\in (im(A))^{\\perp}$. But  since $(im(A))^{\\perp}=Ker(A^T)$, we have \n",
    "\n",
    "$$b-A{\\mathbf x^*}\\in Ker(A^T)\\;\\;\\Rightarrow\\;\\; A^T(b-A{\\mathbf x^*})={\\mathbf 0}.$$\n",
    "This implies that ${\\mathbf x^*}$ is the solution of the system \n",
    "\n",
    "$$A^TA{\\mathbf x^*}=A^T{\\mathbf b}.$$\n",
    "\n",
    "So, what is the practical application of this? This approach is very useful when we are trying to find a model for some given data. To make this tutorial concise, we will focus on a linear model, but in a similar approach we could find the best fitting polynomials or another curve to a given data."
   ]
  },
  {
   "cell_type": "markdown",
   "metadata": {},
   "source": [
    "### Example:\n",
    "\n",
    "Let's find the best fitting least square model fitting the data given as below. \n",
    "\n",
    "data=[(1,4),(1.5,3),(2,3),(2.2,3.8),(3,4.5),(3.5,7),(3.8,9),(5,8),(7.5,7),(8.8,41)]\n",
    "\n",
    "Before, we find the best fitting linear model, we will first plot the points in this dataset and see what we have. For this we need to import matplotlib.pyplot module as plt. From that module, we will be using plt.scatter() to produce dot plot of our data. "
   ]
  },
  {
   "cell_type": "code",
   "execution_count": 13,
   "metadata": {},
   "outputs": [
    {
     "data": {
      "text/plain": [
       "<Figure size 640x480 with 1 Axes>"
      ]
     },
     "metadata": {},
     "output_type": "display_data"
    }
   ],
   "source": [
    "import matplotlib.pyplot as plt\n",
    "\n",
    "data=[(1,4),(1.5,3),(2,3),(2.2,3.8),(3,4.5),(3.5,7),(3.8,9),(5,8),(7.5,7),(8.8,41)]\n",
    "\n",
    "#create x values and y values\n",
    "x_values=[]\n",
    "y_values=[]\n",
    "\n",
    "for v in data:\n",
    "    x=v[0]\n",
    "    x_values.append(x)\n",
    "    y=v[1]\n",
    "    y_values.append(y)\n",
    "\n",
    "#plotting dataset by using scatterplot\n",
    "plt.scatter(x_values,y_values)\n",
    "plt.xlabel('x-values')\n",
    "plt.ylabel('y-values')\n",
    "plt.title('raw data')\n",
    "\n",
    "plt.show()"
   ]
  },
  {
   "cell_type": "markdown",
   "metadata": {},
   "source": [
    "Linear model fitting this data is given as $y=c_0+c_1x$, where $c_0$ is the intercept and $c_1$ is the coefficient. Therefore, the corresponding system is $A{\\mathbf x}={\\mathbf b}$ where\n",
    "$A=\\begin{bmatrix}1 & 1\\\\\n",
    "1&1.5\\\\\n",
    "1&2\\\\\n",
    "1&2.2\\\\\n",
    "1&3\\\\\n",
    "1&3.5\\\\\n",
    "1&3.8\\\\\n",
    "1&5\\\\\n",
    "1&7.5\\\\\n",
    "1&8.8\\\\\n",
    "\\end{bmatrix}$ and \n",
    "${\\mathbf b}=\\begin{bmatrix}4\\\\3\\\\3\\\\3.8\\\\4.5\\\\7\\\\9\\\\8\\\\7\\\\41\\end{bmatrix}$."
   ]
  },
  {
   "cell_type": "code",
   "execution_count": 14,
   "metadata": {},
   "outputs": [
    {
     "name": "stdout",
     "output_type": "stream",
     "text": [
      "Matrix A is [[1.  1. ]\n",
      " [1.  1.5]\n",
      " [1.  2. ]\n",
      " [1.  2.2]\n",
      " [1.  3. ]\n",
      " [1.  3.5]\n",
      " [1.  3.8]\n",
      " [1.  5. ]\n",
      " [1.  7.5]\n",
      " [1.  8.8]] and vector b is [ 4.   3.   3.   3.8  4.5  7.   9.   8.   7.  41. ]\n"
     ]
    }
   ],
   "source": [
    "#Create matrix A and vector b in the following way\n",
    "\n",
    "A_list=[]\n",
    "b_list=[]\n",
    "\n",
    "for v in range(0,len(data)):\n",
    "    x=data[v][0]\n",
    "    A_list.append(np.array([1,x]))\n",
    "    b_list.append(data[v][1])\n",
    "\n",
    "A=np.array(A_list)\n",
    "b=np.array(b_list)\n",
    "print('Matrix A is {} and vector b is {}'.format(A,b))\n"
   ]
  },
  {
   "cell_type": "markdown",
   "metadata": {},
   "source": [
    "To find the least squares solution $x^*$, we will solve the system $A^TA{\\mathbf x}=A^T{\\mathbf b}$."
   ]
  },
  {
   "cell_type": "code",
   "execution_count": 15,
   "metadata": {},
   "outputs": [
    {
     "data": {
      "text/plain": [
       "array([-3.94430839,  3.38754788])"
      ]
     },
     "execution_count": 15,
     "metadata": {},
     "output_type": "execute_result"
    }
   ],
   "source": [
    "A_T=np.transpose(A)\n",
    "new_b=np.dot(A_T,b)\n",
    "new_A=np.dot(A_T,A)\n",
    "\n",
    "la.solve(new_A,new_b)\n"
   ]
  },
  {
   "cell_type": "markdown",
   "metadata": {},
   "source": [
    "So, the least-squares solution gives us $c_0$ and $c_1$ in the model. Therefore, the best fitting linear model to this data is $y=-3.94430839+3.38754788x$.\n",
    "\n",
    "Let's plot points and the linear model on the same graph."
   ]
  },
  {
   "cell_type": "code",
   "execution_count": 16,
   "metadata": {},
   "outputs": [
    {
     "data": {
      "image/png": "[encoded data removed]",
      "text/plain": [
       "<Figure size 432x288 with 1 Axes>"
      ]
     },
     "metadata": {
      "needs_background": "light"
     },
     "output_type": "display_data"
    }
   ],
   "source": [
    "c=la.solve(new_A,new_b)\n",
    "\n",
    "x_star=[]\n",
    "\n",
    "for i in range(0,len(data)):\n",
    "    x=data[i][0]\n",
    "    new_y=c[0]+c[1]*x\n",
    "    x_star.append(new_y)\n",
    "\n",
    "plt.plot(x_values,x_star,color='red')\n",
    "plt.scatter(x_values,y_values,color='blue')\n",
    "plt.xlabel('x-values')\n",
    "plt.ylabel('y-values')\n",
    "\n",
    "plt.show()"
   ]
  },
  {
   "cell_type": "markdown",
   "metadata": {},
   "source": [
    "Notice that, the point $(8.8,41)$ has the highest y-value in the dataset and according to this plot, the model is trying to fit into that point as well. Let's look at the model without that point."
   ]
  },
  {
   "cell_type": "code",
   "execution_count": 17,
   "metadata": {},
   "outputs": [
    {
     "name": "stdout",
     "output_type": "stream",
     "text": [
      "Matrix A2 is [[1.  1. ]\n",
      " [1.  1.5]\n",
      " [1.  2. ]\n",
      " [1.  2.2]\n",
      " [1.  3. ]\n",
      " [1.  3.5]\n",
      " [1.  3.8]\n",
      " [1.  5. ]\n",
      " [1.  7.5]] and vector b2 is [4.  3.  3.  3.8 4.5 7.  9.  8.  7. ]\n"
     ]
    }
   ],
   "source": [
    "modified_data=data=[(1,4),(1.5,3),(2,3),(2.2,3.8),(3,4.5),(3.5,7),(3.8,9),(5,8),(7.5,7)]\n",
    "\n",
    "A_list2=[]\n",
    "b_list2=[]\n",
    "for v in range(0,len(modified_data)):\n",
    "    x=modified_data[v][0]\n",
    "    A_list2.append(np.array([1,x]))\n",
    "    b_list2.append(modified_data[v][1])\n",
    "\n",
    "\n",
    "A2=np.array(A_list2)\n",
    "b2=np.array(b_list2)\n",
    "print('Matrix A2 is {} and vector b2 is {}'.format(A2,b2))    \n",
    "    \n",
    "A2_T=np.transpose(A2)\n",
    "new_b2=np.dot(A2_T,b2)\n",
    "new_A2=np.dot(A2_T,A2)\n",
    "\n",
    "c2=la.solve(new_A2,new_b2)\n",
    "\n",
    "x_star2=[]\n",
    "\n",
    "for i in range(0,len(modified_data)):\n",
    "    x=modified_data[i][0]\n",
    "    new_y2=c2[0]+c2[1]*x\n",
    "    x_star2.append(new_y2)\n"
   ]
  },
  {
   "cell_type": "markdown",
   "metadata": {},
   "source": [
    "Let's plot both models side by side so that we see differences and similarities. To create two plots side by side horizontally, we will be using the code \n",
    "\n",
    "fig,(ax1,ax2)=plt.subplots(1,2)\n",
    "\n",
    "This tells us that there will be 1 row and 2 columns in our plot. In addition, we will use ax1 for axes of the old plot while using ax2 for the new plot. (To produce plots horizontally aligned, use fig,(ax1,ax2)=plt.subplots(2,1))"
   ]
  },
  {
   "cell_type": "code",
   "execution_count": 18,
   "metadata": {},
   "outputs": [
    {
     "data": {
      "image/png": "[encoded data removed]",
      "text/plain": [
       "<Figure size 432x288 with 2 Axes>"
      ]
     },
     "metadata": {
      "needs_background": "light"
     },
     "output_type": "display_data"
    }
   ],
   "source": [
    "x2_values=[]\n",
    "y2_values=[]\n",
    "\n",
    "for v in modified_data:\n",
    "    x=v[0]\n",
    "    x2_values.append(x)\n",
    "    y=v[1]\n",
    "    y2_values.append(y)    \n",
    "\n",
    "#Creating two plots side by side\n",
    "fig,(ax1,ax2)=plt.subplots(1,2)\n",
    "\n",
    "#old model on the left, with the outlier\n",
    "ax1.plot(x_values,x_star,color='red')\n",
    "ax1.scatter(x_values,y_values,color='blue')\n",
    "ax1.set_xlabel('x')\n",
    "ax1.set_ylabel('y')\n",
    "ax1.set_title('with the outlier')\n",
    "    \n",
    "#new model on the right, without the outlier\n",
    "ax2.plot(x2_values,x_star2,color='red')\n",
    "ax2.scatter(x2_values,y2_values,color='blue')\n",
    "ax2.set_xlabel('x')\n",
    "ax2.set_ylabel('y')\n",
    "ax2.set_title('without the outlier')\n",
    "\n",
    "plt.show()"
   ]
  },
  {
   "cell_type": "markdown",
   "metadata": {},
   "source": [
    "This shows that all new y-values are less than 10 while old model gave values more than 10 to the last three points.  "
   ]
  },
  {
   "cell_type": "code",
   "execution_count": 19,
   "metadata": {},
   "outputs": [
    {
     "name": "stdout",
     "output_type": "stream",
     "text": [
      "Old model values: [-0.5567605091918764, 1.1370134323614591, 2.830787373914794, 3.5082969505361286, 6.218335257021465, 7.9121091985748, 8.928373563506801, 12.993431023234807, 21.462300731001484, 25.866112979040153]\n",
      "........................\n",
      "New model values: [3.648714864957733, 4.050216479967011, 4.45171809497629, 4.61231874098, 5.254721324994845, 5.656222940004123, 5.897123909009689, 6.860727785031957, 8.868235860078347]\n"
     ]
    }
   ],
   "source": [
    "print('Old model values: {}'.format(x_star)) \n",
    "print('........................')\n",
    "print('New model values: {}'.format(x_star2))"
   ]
  },
  {
   "cell_type": "markdown",
   "metadata": {},
   "source": [
    "### Finding the linear model by using machine learning package sklearn\n",
    "\n",
    "As in Part II, we could combine all our code into a function so that we could use it for other models. However, there is a very convenient way of doing that by using the machine learning package sklearn. \n",
    "\n",
    "Here is the a very general way of creating models in this way. Note that in real life, an exploratory data analysis (EDA) is needed to determine the best approach about your data. \n",
    "\n",
    "<ol>\n",
    "<li>import tools needed. Here we will import LinearRegression from sklearn.linear_model.</li>\n",
    "<li>Preprocess and clean data for use. (This is very important step to have a good model)</li>\n",
    "<li>Split data into train and test subsets by using train_test_split from sklearn.model_selection (training data is used to train the model and test is used to test model efficiency)</li>\n",
    "<li>Fit the model to the training set.</li>\n",
    "<li>Find predicted values.</li>\n",
    "<li>Measure model efficiency by using several metrics and scores.</li>\n",
    "<li>Improve the model, if necessary.</li>\n",
    "<li>You may even consider other linear models to improve your model. Each model has its own strength and weaknesses. If you are interested in learning all these models, you may want to take a course in Machine Learning.</li>\n",
    "</ol>\n",
    "\n",
    "Documentation links:\n",
    "\n",
    "Linear Models: https://scikit-learn.org/stable/modules/classes.html?highlight=sklearn%20metrics#module-sklearn.linear_model \n",
    "\n",
    "Metrics: https://scikit-learn.org/stable/modules/classes.html?highlight=sklearn%20metrics#module-sklearn.metrics\n",
    "\n",
    "Split data into training and test subsets: https://scikit-learn.org/stable/modules/generated/sklearn.model_selection.train_test_split.html?highlight=train_test_split#sklearn.model_selection.train_test_split\n"
   ]
  },
  {
   "cell_type": "code",
   "execution_count": 20,
   "metadata": {},
   "outputs": [],
   "source": [
    "from sklearn.linear_model import LinearRegression\n",
    "\n",
    "#define training values\n",
    "X_train=x_values\n",
    "y_train=y_values\n",
    "X_train=np.reshape(X_train,(10,1))   #we needed to reshape x-values\n",
    "\n",
    "#define the model\n",
    "lr=LinearRegression()  \n",
    "\n",
    "#fit the model to the data\n",
    "lin_model=lr.fit(X_train,y_train)\n"
   ]
  },
  {
   "cell_type": "markdown",
   "metadata": {},
   "source": [
    "Let's find the model intercept and coefficient by using .intercept_ and .coef_"
   ]
  },
  {
   "cell_type": "code",
   "execution_count": 21,
   "metadata": {},
   "outputs": [
    {
     "name": "stdout",
     "output_type": "stream",
     "text": [
      "In the model, the intercept is -3.944308392298556 and the coefficient is [3.38754788]\n"
     ]
    }
   ],
   "source": [
    "#Model intercept and coefficient\n",
    "\n",
    "print('In the model, the intercept is {} and the coefficient is {}'.format(lin_model.intercept_,lin_model.coef_))"
   ]
  },
  {
   "cell_type": "markdown",
   "metadata": {},
   "source": [
    "This was just as before. Let's find model predictions by using .predict(X_train).  "
   ]
  },
  {
   "cell_type": "code",
   "execution_count": 22,
   "metadata": {},
   "outputs": [
    {
     "data": {
      "text/plain": [
       "array([-0.55676051,  1.13701343,  2.83078737,  3.50829695,  6.21833526,\n",
       "        7.9121092 ,  8.92837356, 12.99343102, 21.46230073, 25.86611298])"
      ]
     },
     "execution_count": 22,
     "metadata": {},
     "output_type": "execute_result"
    }
   ],
   "source": [
    "#model predictions\n",
    "lin_model.predict(X_train)  "
   ]
  },
  {
   "cell_type": "markdown",
   "metadata": {},
   "source": [
    "Let's compare this with the values that we found before."
   ]
  },
  {
   "cell_type": "code",
   "execution_count": 23,
   "metadata": {},
   "outputs": [
    {
     "data": {
      "text/plain": [
       "[-0.5567605091918764,\n",
       " 1.1370134323614591,\n",
       " 2.830787373914794,\n",
       " 3.5082969505361286,\n",
       " 6.218335257021465,\n",
       " 7.9121091985748,\n",
       " 8.928373563506801,\n",
       " 12.993431023234807,\n",
       " 21.462300731001484,\n",
       " 25.866112979040153]"
      ]
     },
     "execution_count": 23,
     "metadata": {},
     "output_type": "execute_result"
    }
   ],
   "source": [
    "x_star"
   ]
  },
  {
   "cell_type": "markdown",
   "metadata": {},
   "source": [
    "All the predictions are the same as before when we use matrices to find least-square solutions.\n",
    "\n",
    "Let's look at the score of our model."
   ]
  },
  {
   "cell_type": "code",
   "execution_count": 24,
   "metadata": {},
   "outputs": [
    {
     "data": {
      "text/plain": [
       "0.5827119518244288"
      ]
     },
     "execution_count": 24,
     "metadata": {},
     "output_type": "execute_result"
    }
   ],
   "source": [
    "lin_model.score(X_train,y_train)"
   ]
  },
  {
   "cell_type": "markdown",
   "metadata": {},
   "source": [
    "This is a low score, showing that our model is not a good one. But since we didn't have many data points, this is understable. In general, a good Exploratory Data Analysis (EDA) should be performed before fitting a model. Also, not every model is suitable for every dataset. With experience, this process should get easier.\n",
    "\n",
    "Let's look at the error in our computation. For this we use, mean_squared_error in sklearn.metrics. For documentation, you may want to look at \n",
    "\n",
    "https://scikit-learn.org/stable/modules/generated/sklearn.metrics.mean_squared_error.html?highlight=error#sklearn.metrics.mean_squared_error and https://scikit-learn.org/stable/modules/model_evaluation.html#mean-squared-error\n",
    "\n",
    "Mean Squared error is computed in the following way: Let $N$=sample size, $\\hat{y}_i$=ith predicted_value and $y_i$=ith true value. Then mean-square-error is\n",
    "\n",
    "$$MSE=\\frac{1}{N}\\sum_{i=0}^{N-1} (\\hat{y}_i-y_i)^2$$\n",
    "\n",
    "You can read this formula from inside-out: We first find the difference predicted_value-true_value, then square them (so that a prediction  below or above true value does not effect the sum), then add them up to find the total error and normalize it by dividing by the size of the sample.\n",
    "\n",
    "Let's compute the error in our example:"
   ]
  },
  {
   "cell_type": "code",
   "execution_count": 25,
   "metadata": {},
   "outputs": [
    {
     "data": {
      "text/plain": [
       "49.126529064418456"
      ]
     },
     "execution_count": 25,
     "metadata": {},
     "output_type": "execute_result"
    }
   ],
   "source": [
    "from sklearn.metrics import mean_squared_error\n",
    "\n",
    "mean_squared_error(y_values, lin_model.predict(X_train) )"
   ]
  },
  {
   "cell_type": "markdown",
   "metadata": {},
   "source": [
    "This error is very high, and that could be another indication that why our model has a low score."
   ]
  },
  {
   "cell_type": "markdown",
   "metadata": {},
   "source": [
    "By using this model, we can predict the value of a new data set. For example, we could try to find values for numbers between $[10,20]$ interval."
   ]
  },
  {
   "cell_type": "code",
   "execution_count": 26,
   "metadata": {},
   "outputs": [
    {
     "data": {
      "text/plain": [
       "array([29.93117044, 33.31871832, 36.7062662 , 40.09381409, 43.48136197,\n",
       "       46.86890985, 50.25645774, 53.64400562, 57.0315535 , 60.41910139])"
      ]
     },
     "execution_count": 26,
     "metadata": {},
     "output_type": "execute_result"
    }
   ],
   "source": [
    "#Not to get a value error, we will add array.reshape(1, -1) since we have a single feature\n",
    "\n",
    "new_data=np.array(np.arange(10,20)).reshape(-1,1)\n",
    "\n",
    "lin_model.predict(new_data)"
   ]
  },
  {
   "cell_type": "markdown",
   "metadata": {},
   "source": [
    "As I stated many times before, to make this tutorial brief, many important topics related to linear regression analysis are excluded. First of all, it is very important to understand data to create a good model. For this, a comprehensive Exploratory Data Analysis (EDA) would be very helpful. In addition, after the model built, some model diagnostics should be performed to check the model. If you want to learn more about Linear Regression, you may want to look at the book *Regression Analysis by Example* (Fifth Edition) by S. Chatterjee and A.S. Hadi."
   ]
  }
 ],
 "metadata": {
  "kernelspec": {
   "display_name": "Python 3",
   "language": "python",
   "name": "python3"
  },
  "language_info": {
   "codemirror_mode": {
    "name": "ipython",
    "version": 3
   },
   "file_extension": ".py",
   "mimetype": "text/x-python",
   "name": "python",
   "nbconvert_exporter": "python",
   "pygments_lexer": "ipython3",
   "version": "3.7.3"
  }
 },
 "nbformat": 4,
 "nbformat_minor": 2
}
